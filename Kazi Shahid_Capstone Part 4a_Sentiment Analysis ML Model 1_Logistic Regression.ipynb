{
 "cells": [
  {
   "cell_type": "markdown",
   "id": "dc660767",
   "metadata": {},
   "source": [
    "<div id=\"container\" style=\"position:relative;\">\n",
    "<div style=\"float:left\">\n",
    "\n",
    "***Kazi Shahid***\n",
    "\n",
    "***BrainStation Data Science Diploma Candidate***\n",
    "\n",
    "***Capstone Project***\n",
    "\n",
    "=============================================================\n",
    "\n",
    "***Project SteamBuzz: Will Our Game Create a Buzz in the Steam community?***\n",
    "\n",
    "***Part 4 (a): Sentiment Analysis ML Model 1 - Logistic Regression***\n",
    "    \n",
    "</div>\n",
    "<div style=\"position:relative; float:right\"><img style=\"height:100px\" src =\"https://i.ibb.co/mcvpL4Z/Steam-Buzz-logo.png\" />\n",
    "</div>\n",
    "</div>"
   ]
  },
  {
   "cell_type": "markdown",
   "id": "b73ddd67",
   "metadata": {},
   "source": [
    "---\n",
    "# Overview\n",
    "\n",
    "In this part of the project, we will train a linear classifier on the data - the logistic regression.\n",
    "\n",
    "Logistic regression is [defined](https://www.sciencedirect.com/topics/computer-science/logistic-regression) as a process of modelling the probability of a discrete outcome given an input variable. Most commonly, logistic regression classifiers model a binary outcome, i.e., outputs that constitute two unique values such as positive/negative, true/false, yes/no, etc.\n",
    "\n",
    "Logistic regression is a relatively simple yet very effective algorithm to use when we need to take a fast pass at benchmarks (given the fact that it is more efficient than other ML Models, especially when the dataset is not massive) in relation to binary target variable, and investigate into feature importance, i.e., significance of predictors."
   ]
  },
  {
   "cell_type": "markdown",
   "id": "1c8a41cf",
   "metadata": {},
   "source": [
    "---\n",
    "# Process Flow\n",
    "\n",
    "The process flow for this part of the project is as follows:\n",
    "\n",
    "1. Loading the dataset as was prepared and preprocessed in Part 3 of the project\n",
    "2. Employing the classifier and optimizing its hyperparameters through Grid Search and cross validation\n",
    "3. Choosing the parameter values for which the classifier performed the best and re-employing the classifier with the optimized hyperparameters\n",
    "4. Evaluating the model using the appropriate performance measures\n",
    "5. Derive any valuable insights from the model\n",
    "6. Wrapping up with concluding remarks, summarizing the findings"
   ]
  },
  {
   "cell_type": "code",
   "execution_count": 1,
   "id": "d9cdb1af",
   "metadata": {
    "ExecuteTime": {
     "end_time": "2021-10-06T20:11:47.372931Z",
     "start_time": "2021-10-06T20:11:45.551427Z"
    }
   },
   "outputs": [],
   "source": [
    "# Importing the necessary data analysis and visualization toolkits\n",
    "import pandas as pd\n",
    "import numpy as np\n",
    "import matplotlib.pyplot as plt\n",
    "%matplotlib inline\n",
    "import seaborn as sns\n",
    "\n",
    "# To display ALL the columns in the dataframes\n",
    "pd.options.display.max_columns=None\n",
    "\n",
    "# To display a considerable extent (first 500 characters) of the content of each column of the dataframes\n",
    "pd.set_option('display.max_colwidth', 100)\n",
    "\n",
    "# Filtering out potential warnings\n",
    "import warnings\n",
    "warnings.filterwarnings('ignore')"
   ]
  },
  {
   "cell_type": "markdown",
   "id": "50e39a0b",
   "metadata": {},
   "source": [
    "---\n",
    "# Loading the Training and Test Datasets\n",
    "\n",
    "First, we load the X (features) and y (target) training and test datasets as cleaned up in Part 3 of the project, and check that their shapes to confirm that they loaded correctly."
   ]
  },
  {
   "cell_type": "code",
   "execution_count": 2,
   "id": "4b160489",
   "metadata": {
    "ExecuteTime": {
     "end_time": "2021-10-06T20:12:23.641338Z",
     "start_time": "2021-10-06T20:12:21.362098Z"
    }
   },
   "outputs": [],
   "source": [
    "# Importing the X_train, X_test, y_train, and y_test datasets from the respective pickle files into Pandas DataFrame forms\n",
    "X_train = pd.read_pickle(\"data\\\\X_train.pkl\")\n",
    "X_test = pd.read_pickle(\"data\\\\X_test.pkl\")\n",
    "y_train = pd.read_pickle(\"data\\y_train.pkl\")\n",
    "y_test = pd.read_pickle(\"data\\y_test.pkl\")\n",
    "\n",
    "# Note: The destination paths above includes a duplicated backslash (\"\\\\\") rather than single (\"\\\") as otherwise it shows the below error\n",
    "# \"SyntaxError: (unicode error) 'unicodeescape' codec can't decode bytes in position 4-5: truncated \\xXX escape\"\n",
    "# This is because the \"\\x...\" (\"\\x_train\" in our case) starts an 8-character Unicode escape where digits follow the \"\\x\"\n",
    "# But in our case, digits do not follow the \"\\x...\" (\"\\x_train\" in our case), making the escape invalid and throwing an error\n",
    "# This error has been resolved based on https://stackoverflow.com/a/1347854"
   ]
  },
  {
   "cell_type": "code",
   "execution_count": 3,
   "id": "b01dc933",
   "metadata": {
    "ExecuteTime": {
     "end_time": "2021-10-06T20:12:26.057257Z",
     "start_time": "2021-10-06T20:12:26.050300Z"
    }
   },
   "outputs": [
    {
     "name": "stdout",
     "output_type": "stream",
     "text": [
      "Shape of X_train dataset: (55248, 7729)\n",
      "Shape of X_test dataset: (13812, 7729)\n",
      "Shape of y_train dataset: (55248,)\n",
      "Shape of y_test dataset: (13812,)\n"
     ]
    }
   ],
   "source": [
    "# Checking that the datasets loaded correctly, displaying the shapes\n",
    "## Displaying the dataframes themselves take a lot of time, hence choosing to display their shapes\n",
    "print(f\"Shape of X_train dataset: {X_train.shape}\")\n",
    "print(f\"Shape of X_test dataset: {X_test.shape}\")\n",
    "print(f\"Shape of y_train dataset: {y_train.shape}\")\n",
    "print(f\"Shape of y_test dataset: {y_test.shape}\")"
   ]
  },
  {
   "cell_type": "markdown",
   "id": "cb32fe3a",
   "metadata": {},
   "source": [
    "We can see that the shapes above exactly match the final output of Part 3 of the project, so the datasets loaded correctly."
   ]
  },
  {
   "cell_type": "markdown",
   "id": "1432e299",
   "metadata": {},
   "source": [
    "---\n",
    "# Selection of Hyperparameters for Logistic Regression Classifier\n",
    "\n",
    "A full list and description of the hyperparameters we can tune in a logistic regression model can be found in [its documentation](https://scikit-learn.org/stable/modules/generated/sklearn.linear_model.LogisticRegression.html).\n",
    "\n",
    "We will consider setting/tuning the three most impactful and important hyperparameters, all related to the 'Regularization' technique, as discussed below.\n",
    "\n",
    "## Regularization\n",
    "\n",
    "The 'Regularization' technique is implemented with a view to reducing overfitting in a model, by discouraging the model from taking an overly complex form. For our model, we will implement this technique by specifying its `solver` and `penalty` along with tuning the `C` parameter.\n",
    "\n",
    "### Regularization Solver\n",
    "\n",
    "We can use a few solver for regularization such as `newton-cg`, `lbfgs`, `liblinear`, `sag`, and `saga`.\n",
    "- `newton-cg` is slow for large datasets as it computes the second partial derivatives (Hessian Matrix)\n",
    "- For small datasets, `liblinear` is a good option, however is known to get stuck at a non-stationary point (i.e. non-optima)  and cannot run in parallel\n",
    "- `sag` and `saga` are faster for large datasets, but sometimes impractical for large N\n",
    "- `lbfgs` is most popular (it was set as the default solver in version 0.22) and can handle large datasets\n",
    "\n",
    "We selected the **`lbfgs`** solver for our classifier as we are training our model on a very large dataset where the other solvers are not likely to perform well as evident from the above.\n",
    "\n",
    "### Regularization Penalty Type\n",
    "\n",
    "The options here are `l1`, `l2`, `elasticnet`, and `none`.\n",
    "\n",
    "According to the documentation: *[\"The ‘newton-cg’, ‘sag’, and ‘lbfgs’ solvers support only L2 regularization with primal formulation, or no regularization.\"](https://scikit-learn.org/stable/modules/generated/sklearn.linear_model.LogisticRegression.html)*. Therefore, we have selected **`l2`** to go with `lbfgs` as the solver selected for our logistic regression.\n",
    "\n",
    "### Regularization Penalty Strength\n",
    "\n",
    "The `C` regularization hyperparameter controls how closely the logistic regression model will fit to the training data by setting the penalty strength. The default setting is `C=1` but it is necessary to tune this hyperparameter to see at which point the model performs the best.\n",
    "\n",
    "When setting the `C` value for the model, we need to keep in mind that:\n",
    "- The level of regularization actually goes in the opposite direction of the value of `C`, i.e., the higher the `C` value, the lower the regularization (this is because C=1/λ where λ is the original hyperparameter proportional to the level of regularization).\n",
    "- Setting `C` value too high will cause the model to overfit. On the other hand, setting it too low will cause the model to underfit.\n",
    "\n",
    "Therefore, for our model, we will cycle through a range of `C` values (e.g., **`C = 0.0001, 0.001, 0.01, 0.1, 1, 10, 100`** etc.) to find a general optimum point between where the model neither overfits nor underfits."
   ]
  },
  {
   "cell_type": "markdown",
   "id": "9427cd78",
   "metadata": {},
   "source": [
    "---\n",
    "# Employing Logistic Regression Classifier\n",
    "\n",
    "We now employ our logistic regression classifier. First, we will instantiate a classifier object, then optimize the hyperparameter using `GridSearchCV` and cross validation. Finally, we will re-employ the classifier with the hyperparameter values with which the classifier performed the best.\n",
    "\n",
    "\n",
    "## Instantiating a Logistic Regression Object\n",
    "\n",
    "We start by instantiating a logistic regression object for our modelling. Here, we set two of the hyperparameters in line with our [hyperparameter selection section above](#Regularization) that we do not need to iterate through to optimize."
   ]
  },
  {
   "cell_type": "code",
   "execution_count": 5,
   "id": "0296392d",
   "metadata": {
    "ExecuteTime": {
     "end_time": "2021-10-05T05:07:30.712215Z",
     "start_time": "2021-10-05T05:07:30.054679Z"
    }
   },
   "outputs": [],
   "source": [
    "# Importing linear_model class from scikit-learn library\n",
    "from sklearn import linear_model\n",
    "\n",
    "# Instantiating a logistic regression object for our modelling\n",
    "## Setting solver to 'lbfgs' and penalty to 'l2' as discussed and selected\n",
    "logreg = linear_model.LogisticRegression(solver='lbfgs', penalty='l2')"
   ]
  },
  {
   "cell_type": "markdown",
   "id": "56504bcc",
   "metadata": {},
   "source": [
    "## Hyperparameter Setup\n",
    "\n",
    "We are defining the hyperparameters that we are looking to optimize for our linear classifier which, for our dataset, is only the `C` parameter as discussed in the [hyperparameter selection section above](#Selection-of-Hyperparameters-for-Logistic-Regression-Classifier). We will take a range of values to iterate through and set them as such: `C = 0.0001, 0.001, 0.01, 0.1, 1, 10, 100`."
   ]
  },
  {
   "cell_type": "code",
   "execution_count": 11,
   "id": "ad8894a5",
   "metadata": {
    "ExecuteTime": {
     "end_time": "2021-10-05T06:15:23.774291Z",
     "start_time": "2021-10-05T06:15:23.758794Z"
    }
   },
   "outputs": [],
   "source": [
    "# Setting hyperparameter values to iterate through and optimize\n",
    "C_values = np.asarray([0.0001, 0.001, 0.01, 0.1, 1, 10, 100])"
   ]
  },
  {
   "cell_type": "markdown",
   "id": "17c598dd",
   "metadata": {},
   "source": [
    "## GridSearchCV Setup\n",
    "\n",
    "Now we will set up the `GridSearchCV` with the appropriate values."
   ]
  },
  {
   "cell_type": "code",
   "execution_count": 61,
   "id": "dfef907d",
   "metadata": {
    "ExecuteTime": {
     "end_time": "2021-10-06T00:43:20.863895Z",
     "start_time": "2021-10-06T00:43:20.713004Z"
    }
   },
   "outputs": [],
   "source": [
    "# Importing GridSearchCV from scikit-learn library's model_selection module\n",
    "from sklearn.model_selection import GridSearchCV"
   ]
  },
  {
   "cell_type": "code",
   "execution_count": 13,
   "id": "9815edeb",
   "metadata": {
    "ExecuteTime": {
     "end_time": "2021-10-05T06:15:31.480030Z",
     "start_time": "2021-10-05T06:15:31.463096Z"
    }
   },
   "outputs": [],
   "source": [
    "# Creating a logistic regression object for GridSearchCV\n",
    "## We ask the GridSearchCV to iterate through the 'C' parameter values we set above (C_values)\n",
    "## We set the cross validation fold to 5\n",
    "logreg_gs = GridSearchCV(logreg, {'C': C_values}, cv=5)"
   ]
  },
  {
   "cell_type": "markdown",
   "id": "1c454e63",
   "metadata": {},
   "source": [
    "## Hyperparameter Optimization\n",
    "\n",
    "Now we will optimize the hyperparameters by iterating through the parameter values, testing via cross validation, and checking the results with which the classifier performed the best."
   ]
  },
  {
   "cell_type": "code",
   "execution_count": 14,
   "id": "95154c5b",
   "metadata": {
    "ExecuteTime": {
     "end_time": "2021-10-05T06:39:31.901137Z",
     "start_time": "2021-10-05T06:15:33.278782Z"
    }
   },
   "outputs": [
    {
     "data": {
      "text/plain": [
       "GridSearchCV(cv=5, estimator=LogisticRegression(),\n",
       "             param_grid={'C': array([1.e-04, 1.e-03, 1.e-02, 1.e-01, 1.e+00, 1.e+01, 1.e+02])})"
      ]
     },
     "execution_count": 14,
     "metadata": {},
     "output_type": "execute_result"
    }
   ],
   "source": [
    "# Fitting the train datasets\n",
    "logreg_gs.fit(X_train, y_train)"
   ]
  },
  {
   "cell_type": "code",
   "execution_count": 60,
   "id": "17e38e9a",
   "metadata": {
    "ExecuteTime": {
     "end_time": "2021-10-05T14:12:40.111910Z",
     "start_time": "2021-10-05T13:46:51.947081Z"
    }
   },
   "outputs": [],
   "source": [
    "# Storing the fitted model's results (will be used in deriving model insights in a later section further below)\n",
    "result = logreg_gs.fit(X_train, y_train)"
   ]
  },
  {
   "cell_type": "code",
   "execution_count": 19,
   "id": "7fc0fca7",
   "metadata": {
    "ExecuteTime": {
     "end_time": "2021-10-05T11:44:10.980047Z",
     "start_time": "2021-10-05T11:44:10.962096Z"
    }
   },
   "outputs": [
    {
     "name": "stdout",
     "output_type": "stream",
     "text": [
      "The model performs the best at a C-value of 1.0\n"
     ]
    }
   ],
   "source": [
    "print(f\"The model performs the best at a C-value of {logreg_gs.best_estimator_.get_params()['C']}\")"
   ]
  },
  {
   "cell_type": "markdown",
   "id": "24bf396f",
   "metadata": {},
   "source": [
    "## Best Logistic Regression Model with Optimized Hyperparameter\n",
    "\n",
    "We observed that the 5-fold cross validation determined the model performing the best at a `C` value of 1.0. We will set `C=1.0` and run the model to evaluate it."
   ]
  },
  {
   "cell_type": "code",
   "execution_count": 7,
   "id": "c16a12ff",
   "metadata": {
    "ExecuteTime": {
     "end_time": "2021-10-06T20:14:42.742106Z",
     "start_time": "2021-10-06T20:14:42.723156Z"
    }
   },
   "outputs": [],
   "source": [
    "# Instantiating a logistic regression object for this model with the best parameters\n",
    "logreg_best = linear_model.LogisticRegression(C=1.0, solver='lbfgs', penalty='l2')"
   ]
  },
  {
   "cell_type": "code",
   "execution_count": 8,
   "id": "f964a2ea",
   "metadata": {
    "ExecuteTime": {
     "end_time": "2021-10-06T20:16:01.518150Z",
     "start_time": "2021-10-06T20:14:52.667364Z"
    }
   },
   "outputs": [
    {
     "name": "stdout",
     "output_type": "stream",
     "text": [
      "Execution time: 69 seconds\n"
     ]
    }
   ],
   "source": [
    "# Importing time module\n",
    "import time\n",
    "t1 = time.perf_counter() # Track start time of running this cell\n",
    "\n",
    "# Fitting to the train datasets with the optimum hyperparameters for this model\n",
    "logreg_best.fit(X_train, y_train);\n",
    "\n",
    "t2 = time.perf_counter() # Track end time of running this cell\n",
    "print(f\"Execution time: {round(t2-t1)} seconds\") # Show execution time"
   ]
  },
  {
   "cell_type": "markdown",
   "id": "f129f9e2",
   "metadata": {},
   "source": [
    "We can see that the logistic regression model fits very fast, taking only 69 seconds in the local machine."
   ]
  },
  {
   "cell_type": "markdown",
   "id": "7b89bede",
   "metadata": {},
   "source": [
    "---\n",
    "# Model Evaluation\n",
    "\n",
    "We will now evaluate how well the logistic regression model learned from the input variables, by measuring how well it is able to predict the output values."
   ]
  },
  {
   "cell_type": "markdown",
   "id": "7dee20b0",
   "metadata": {},
   "source": [
    "## Accuracy Scores\n",
    "\n",
    "Accuracy is defined as the proportion of examples for which the model produces the correct output. We will calculate this measure now."
   ]
  },
  {
   "cell_type": "code",
   "execution_count": 40,
   "id": "37d5da6d",
   "metadata": {
    "ExecuteTime": {
     "end_time": "2021-10-05T13:09:01.601441Z",
     "start_time": "2021-10-05T13:08:53.058233Z"
    }
   },
   "outputs": [
    {
     "name": "stdout",
     "output_type": "stream",
     "text": [
      "Accuracy score of the Train model: 87.4584%\n",
      "Accuracy score of the Test model: 85.4909%\n"
     ]
    }
   ],
   "source": [
    "# Accuracy scores of the train and test models\n",
    "print(f\"Accuracy score of the Train model: {round(logreg_best.score(X_train, y_train)*100,4)}%\")\n",
    "print(f\"Accuracy score of the Test model: {round(logreg_best.score(X_test, y_test)*100,4)}%\")"
   ]
  },
  {
   "cell_type": "markdown",
   "id": "41543703",
   "metadata": {},
   "source": [
    "This is a great result in the sense that:\n",
    "- The accuracy scores are quite high (mid-to-high 80%s), and\n",
    "- The difference between the train and test model accuracy scores are very small (less than 2%), indicating that the model is generalizing very well.\n",
    "\n",
    "However, as discussed before, accuracy scores give a high-level, general indication. We need to go beyond accuracy scores and look into the model's confusion matrix to get a better idea of how well the model is actually performing. Although, based on the fact that the dataset is perfectly balanced between the two classes, we can expect the accuracy score to be a quite reliable measure - we can confirm this based on the next performance measures."
   ]
  },
  {
   "cell_type": "markdown",
   "id": "e1c43513",
   "metadata": {},
   "source": [
    "## Confusion Matrix\n",
    "\n",
    "A [confusion matrix](https://machinelearningmastery.com/confusion-matrix-machine-learning/#:~:text=A%20confusion%20matrix%20is%20a%20summary%20of%20prediction%20results%20on,key%20to%20the%20confusion%20matrix.) (aka \"error matrix\") is a summary of prediction results on a classification problem. The number of correct and incorrect predictions are summarized with count values and broken down by each class.\n",
    "\n",
    "Generating the confusion matrix for the model:"
   ]
  },
  {
   "cell_type": "code",
   "execution_count": 9,
   "id": "4d0ebf68",
   "metadata": {
    "ExecuteTime": {
     "end_time": "2021-10-06T20:21:58.417107Z",
     "start_time": "2021-10-06T20:21:58.142434Z"
    }
   },
   "outputs": [],
   "source": [
    "# Import confusion matrix\n",
    "from sklearn.metrics import plot_confusion_matrix, confusion_matrix"
   ]
  },
  {
   "cell_type": "code",
   "execution_count": 13,
   "id": "960e09f3",
   "metadata": {
    "ExecuteTime": {
     "end_time": "2021-10-06T20:31:45.096229Z",
     "start_time": "2021-10-06T20:31:43.458474Z"
    }
   },
   "outputs": [
    {
     "data": {
      "text/html": [
       "<div>\n",
       "<style scoped>\n",
       "    .dataframe tbody tr th:only-of-type {\n",
       "        vertical-align: middle;\n",
       "    }\n",
       "\n",
       "    .dataframe tbody tr th {\n",
       "        vertical-align: top;\n",
       "    }\n",
       "\n",
       "    .dataframe thead th {\n",
       "        text-align: right;\n",
       "    }\n",
       "</style>\n",
       "<table border=\"1\" class=\"dataframe\">\n",
       "  <thead>\n",
       "    <tr style=\"text-align: right;\">\n",
       "      <th></th>\n",
       "      <th>Predicted negative (0) rating</th>\n",
       "      <th>Predicted positive (1) rating</th>\n",
       "    </tr>\n",
       "  </thead>\n",
       "  <tbody>\n",
       "    <tr>\n",
       "      <th>True negative (0) rating</th>\n",
       "      <td>5878</td>\n",
       "      <td>968</td>\n",
       "    </tr>\n",
       "    <tr>\n",
       "      <th>True positive (1) rating</th>\n",
       "      <td>1036</td>\n",
       "      <td>5930</td>\n",
       "    </tr>\n",
       "  </tbody>\n",
       "</table>\n",
       "</div>"
      ],
      "text/plain": [
       "                          Predicted negative (0) rating  \\\n",
       "True negative (0) rating                           5878   \n",
       "True positive (1) rating                           1036   \n",
       "\n",
       "                          Predicted positive (1) rating  \n",
       "True negative (0) rating                            968  \n",
       "True positive (1) rating                           5930  "
      ]
     },
     "metadata": {},
     "output_type": "display_data"
    }
   ],
   "source": [
    "# Generating class predictions\n",
    "y_pred = logreg_best.predict(X_test)\n",
    "\n",
    "# Creating the confusion matrix\n",
    "cf_matrix = confusion_matrix(y_test, y_pred)\n",
    "\n",
    "# Specifying confusion matrix rows and columns labels\n",
    "cf_df = pd.DataFrame(\n",
    "    cf_matrix, \n",
    "    columns=[\"Predicted negative (0) rating\", \"Predicted positive (1) rating\"],\n",
    "    index=[\"True negative (0) rating\", \"True positive (1) rating\"]\n",
    ")\n",
    "\n",
    "display(cf_df)"
   ]
  },
  {
   "cell_type": "code",
   "execution_count": 11,
   "id": "a2073321",
   "metadata": {
    "ExecuteTime": {
     "end_time": "2021-10-06T20:22:50.348837Z",
     "start_time": "2021-10-06T20:22:46.986242Z"
    }
   },
   "outputs": [
    {
     "data": {
      "image/png": "[encoded data removed]",
      "text/plain": [
       "<Figure size 432x288 with 2 Axes>"
      ]
     },
     "metadata": {
      "needs_background": "light"
     },
     "output_type": "display_data"
    }
   ],
   "source": [
    "# Specifying class labels to show in the confusion matrix axes\n",
    "classes = ['Recommended\\n(positive)', 'Not recommended\\n(negative)']\n",
    "\n",
    "# Plotting confusion matrix, setting the expected estimator, inputs and target as parameters\n",
    "## Displaying class labels on the axes\n",
    "## Setting colour map to \"Blues\" to be in line with the Steam platform colour scheme throughout the project\n",
    "## Passing values_format as '', otherwise it displays in scientific notation (e.g., \"5878\" is displayed as 5.878e3 which may be confusing for readers)\n",
    "plot_confusion_matrix(logreg_best, X_test, y_test,\n",
    "                      display_labels=classes,\n",
    "                      cmap=plt.cm.Blues,\n",
    "                      values_format = '');"
   ]
  },
  {
   "cell_type": "markdown",
   "id": "ddf34c46",
   "metadata": {},
   "source": [
    "As we can see from the above confusion matrix:\n",
    "- **True Positive** (\"TP\") quadrant (top-left box): The model predicted 5,878 positive ratings which were truly positive ratings, i.e., 5,878 **accurate** predictions of **\"positive\"** ratings.\n",
    "\n",
    "\n",
    "- **False Negative** (\"FN\") quadrant (top-right box): The model predicted 968 negative ratings which were actually positive ratings, i.e., 968 **inaccurate** predictions of **\"negative\"** ratings.\n",
    "\n",
    "\n",
    "- **False Positive** (\"FP\") quadrant (bottom-left box): The model predicted 1,036 positive ratings which were actually negative ratings, i.e., 1,036 **inaccurate** predictions of **\"positive\"** ratings.\n",
    "\n",
    "\n",
    "- **True Negative** (\"TN\") quadrant (bottom-right box): The model predicted 5,930 negative ratings which were truly negative ratings, i.e., 5,930 **accurate** predictions of **\"negative\"** ratings.\n",
    "\n",
    "This is a better measure of the model's performance than accuracy score, as it paints a more in-depth picture of how many accurate and inaccurate predictions were made by the model. This paves the way to introducing 'Precision' and 'Recall' as performance measures."
   ]
  },
  {
   "cell_type": "markdown",
   "id": "dc8fea66",
   "metadata": {},
   "source": [
    "## Precision\n",
    "\n",
    "**Precision** measures the proportion of positive identifications that were actually correct.\n",
    "\n",
    "In formulaic expression:\n",
    "\n",
    "$$Precision = \\frac{TP}{TP+FP}$$\n",
    "\n",
    "Now, calculating the precision for our model -"
   ]
  },
  {
   "cell_type": "code",
   "execution_count": 14,
   "id": "e2a94000",
   "metadata": {
    "ExecuteTime": {
     "end_time": "2021-10-06T20:31:51.655950Z",
     "start_time": "2021-10-06T20:31:51.619643Z"
    }
   },
   "outputs": [
    {
     "name": "stdout",
     "output_type": "stream",
     "text": [
      "Precision of the model: 85.97%\n"
     ]
    }
   ],
   "source": [
    "# Importing precision score module\n",
    "from sklearn.metrics import precision_score\n",
    "\n",
    "# Calculating precision score for ML Model #3-d\n",
    "print(f\"Precision of the model: {round(precision_score(y_test, y_pred)*100, 2)}%\")"
   ]
  },
  {
   "cell_type": "markdown",
   "id": "4e83f423",
   "metadata": {
    "ExecuteTime": {
     "end_time": "2021-10-05T13:26:56.925817Z",
     "start_time": "2021-10-05T13:26:56.906868Z"
    }
   },
   "source": [
    "This is a great result in the sense that, of all the reviews that were predicted as positive plus the reviews that were actually positive, the model **accurately predicted the positive reviews about 86% of the time**."
   ]
  },
  {
   "cell_type": "markdown",
   "id": "2b401047",
   "metadata": {},
   "source": [
    "## Recall\n",
    "\n",
    "**Recall** measures the proportion of actual positives that were identified correctly.\n",
    "\n",
    "In formulaic expression:\n",
    "\n",
    "$$Recall = \\frac{TP}{TP+FN}$$\n",
    "\n",
    "Now, calculating the recall for our model -"
   ]
  },
  {
   "cell_type": "code",
   "execution_count": 15,
   "id": "2bcb252d",
   "metadata": {
    "ExecuteTime": {
     "end_time": "2021-10-06T20:33:36.973437Z",
     "start_time": "2021-10-06T20:33:36.954467Z"
    }
   },
   "outputs": [
    {
     "name": "stdout",
     "output_type": "stream",
     "text": [
      "Recall: 85.13%\n"
     ]
    }
   ],
   "source": [
    "# Recall\n",
    "from sklearn.metrics import recall_score\n",
    "\n",
    "# Calculating recall score for ML Model #3-d\n",
    "print(f\"Recall: {round(recall_score(y_test, y_pred)*100, 2)}%\")"
   ]
  },
  {
   "cell_type": "markdown",
   "id": "0f72c9ef",
   "metadata": {},
   "source": [
    "This is also a great result. This means that of all the reviews that were actually positive, **the model accurately predicted the positive reviews more than 85% of the time**."
   ]
  },
  {
   "cell_type": "markdown",
   "id": "5d365c9d",
   "metadata": {},
   "source": [
    "## F1-Score\n",
    "\n",
    "The F1-score is another popular accuracy measure, which balances the precision and recall measures. F1-score is the harmonic mean of the precision and recall scores, calculated as follows:\n",
    "\n",
    "$$F_1 = 2 \\cdot \\frac{precision \\cdot recall}{precision + recall}$$\n",
    "\n",
    "Now, calculating the F1-score for our model -"
   ]
  },
  {
   "cell_type": "code",
   "execution_count": 16,
   "id": "5b5011c2",
   "metadata": {
    "ExecuteTime": {
     "end_time": "2021-10-06T20:35:14.889199Z",
     "start_time": "2021-10-06T20:35:14.866260Z"
    }
   },
   "outputs": [
    {
     "name": "stdout",
     "output_type": "stream",
     "text": [
      "F1 Score: 85.55%\n"
     ]
    }
   ],
   "source": [
    "# Recall\n",
    "from sklearn.metrics import f1_score\n",
    "\n",
    "# Calculating recall score for ML Model #3-d\n",
    "print(f\"F1 Score: {round(f1_score(y_test, y_pred)*100, 2)}%\")"
   ]
  },
  {
   "cell_type": "markdown",
   "id": "157498e8",
   "metadata": {},
   "source": [
    "This is another great result as portrayed by the harmonic mean (balance) of the precision and recall measures, signifying that the model accurately predicts the outcome of the review texts about 86% of the time."
   ]
  },
  {
   "cell_type": "markdown",
   "id": "2c8ae4ed",
   "metadata": {},
   "source": [
    "## ROC AUC\n",
    "\n",
    "The Receiver Operating Characteristic (ROC) curve is formed by plotting the [true positive rate (TPR)](https://www.split.io/glossary/false-positive-rate/#:~:text=The%20true%20positive%20rate%20(TPR,as%20TN%2FTN%2BFP.) against the [false positive rate (FPR)](https://www.ibm.com/support/producthub/icpdata/docs/content/SSQNUZ_latest/wsj/model/wos-quality-fpr.html). The area under the ROC curve (AUC) is an associated metric that represents, after plotting the ROC curve, the measure of the area under the curve.\n",
    "\n",
    "Now, calculating the ROC AUC score for our model -"
   ]
  },
  {
   "cell_type": "code",
   "execution_count": 17,
   "id": "e6e12481",
   "metadata": {
    "ExecuteTime": {
     "end_time": "2021-10-06T20:37:11.047083Z",
     "start_time": "2021-10-06T20:37:11.020155Z"
    }
   },
   "outputs": [
    {
     "name": "stdout",
     "output_type": "stream",
     "text": [
      "ROC AUC Score: 85.49%\n"
     ]
    }
   ],
   "source": [
    "# Recall\n",
    "from sklearn.metrics import roc_auc_score\n",
    "\n",
    "# Calculating recall score for ML Model #3-d\n",
    "print(f\"ROC AUC Score: {round(roc_auc_score(y_test, y_pred)*100, 2)}%\")"
   ]
  },
  {
   "cell_type": "markdown",
   "id": "f570659c",
   "metadata": {},
   "source": [
    "This score signifies that the model is capable of accurately distinguishing between the two outcome classes more than 85% of the time; i.e., when a review text is passed through the model, it is able to accurately separate the positive-sentiment reviews from the negative-sentiment ones accurately more than 85% of the time.\n",
    "\n",
    "Now, when plotting the curve, we find the following:"
   ]
  },
  {
   "cell_type": "code",
   "execution_count": 19,
   "id": "3bb61dee",
   "metadata": {
    "ExecuteTime": {
     "end_time": "2021-10-06T20:45:17.872258Z",
     "start_time": "2021-10-06T20:45:16.121549Z"
    }
   },
   "outputs": [
    {
     "data": {
      "image/png": "[encoded data removed]",
      "text/plain": [
       "<Figure size 432x288 with 1 Axes>"
      ]
     },
     "metadata": {
      "needs_background": "light"
     },
     "output_type": "display_data"
    }
   ],
   "source": [
    "# Importing metrics from scikit-learn library\n",
    "from sklearn import metrics\n",
    "\n",
    "# Plotting the ROC AUC curve\n",
    "\n",
    "## Calculating probability of predicting outcome variable classes and plotting the ROC AUC curve\n",
    "y_pred_probab = logreg_best.predict_proba(X_test)[::,1]\n",
    "fpr, tpr, _ = metrics.roc_curve(y_test,  y_pred_probab)\n",
    "auc = metrics.roc_auc_score(y_test, y_pred_probab)\n",
    "plt.plot(fpr, tpr, label=\"ROC curve, auc=\"+str(round(auc,4)))\n",
    "plt.legend(loc=4)\n",
    "plt.show()"
   ]
  },
  {
   "cell_type": "markdown",
   "id": "c7e01cf5",
   "metadata": {},
   "source": [
    "We see in the plot that the area under the curve is about 93%. This implies that, when the model is presented with two random reviews, one from the positive-review class and one from the negative-review class, it is more confident that the positive point belongs to the positive class than the negative point belonging to the positive class."
   ]
  },
  {
   "cell_type": "markdown",
   "id": "456f01a5",
   "metadata": {},
   "source": [
    "---\n",
    "# Model Insights\n",
    "\n",
    "Now that we have found out that the logistic regression model is performing fantastically in accurately predicting the positive and negative classes, we can confidently attempt to derive some insights from this model."
   ]
  },
  {
   "cell_type": "code",
   "execution_count": 36,
   "id": "b94c7c09",
   "metadata": {
    "ExecuteTime": {
     "end_time": "2021-10-06T21:02:38.588638Z",
     "start_time": "2021-10-06T21:02:38.572655Z"
    }
   },
   "outputs": [
    {
     "name": "stdout",
     "output_type": "stream",
     "text": [
      "Column names for the coefficient dataframe: Index(['char_len_transformed', 'title_100% Orange Juice',\n",
      "       'title_Act of Aggression - Reboot Edition',\n",
      "       'title_Age of Empires II HD',\n",
      "       'title_Age of Mythology: Extended Edition', 'title_Age of Wonders III',\n",
      "       'title_Anno 2070(tm)', 'title_Anno 2205(tm)',\n",
      "       'title_Arma 2: Operation Arrowhead', 'title_Arma 3',\n",
      "       ...\n",
      "       'zelda', 'zen', 'zerg', 'zero', 'zeus', 'zip', 'zombi', 'zone', 'zoo',\n",
      "       'zoom'],\n",
      "      dtype='object', length=7729)\n"
     ]
    }
   ],
   "source": [
    "# Creating a dataframe after extracting the intercept and coefficients of the model, and transposing to convert to column\n",
    "coeff = pd.DataFrame(logreg_best.coef_, logreg_best.intercept_)\n",
    "\n",
    "# Converting the column names from column index into actual column names\n",
    "coeff.columns = X_train.columns\n",
    "\n",
    "# Printing column names\n",
    "print(f\"Column names for the coefficient dataframe: {coeff.columns}\")"
   ]
  },
  {
   "cell_type": "markdown",
   "id": "22a49cf9",
   "metadata": {},
   "source": [
    "We can see that (and also recalling from Part 3 of the project where we created the final dataset for feeding into the ML models) the columns are primarily of three types:\n",
    "- Character length of review text\n",
    "- Game titles\n",
    "- Vectorized review texts\n",
    "\n",
    "We will create coefficients-dataframes for each of these three buckets so that we can look at the coefficients from these three perspectives in order to derive insights from these angles."
   ]
  },
  {
   "cell_type": "code",
   "execution_count": 30,
   "id": "e74b5f73",
   "metadata": {
    "ExecuteTime": {
     "end_time": "2021-10-06T21:00:18.347505Z",
     "start_time": "2021-10-06T21:00:18.314600Z"
    }
   },
   "outputs": [],
   "source": [
    "# First, dropping the character length coefficient column for use in the two other buckets\n",
    "coeff2 = coeff[coeff.columns.drop(list(coeff.filter(regex='char_len')))]"
   ]
  },
  {
   "cell_type": "code",
   "execution_count": 42,
   "id": "6d531ad8",
   "metadata": {
    "ExecuteTime": {
     "end_time": "2021-10-06T21:05:15.943752Z",
     "start_time": "2021-10-06T21:05:15.932781Z"
    }
   },
   "outputs": [
    {
     "name": "stdout",
     "output_type": "stream",
     "text": [
      "Column names for the game-title coefficient dataframe: Index(['title_100% Orange Juice', 'title_Act of Aggression - Reboot Edition',\n",
      "       'title_Age of Empires II HD',\n",
      "       'title_Age of Mythology: Extended Edition', 'title_Age of Wonders III',\n",
      "       'title_Anno 2070(tm)', 'title_Anno 2205(tm)',\n",
      "       'title_Arma 2: Operation Arrowhead', 'title_Arma 3',\n",
      "       'title_Awesomenauts',\n",
      "       ...\n",
      "       'title_WAKFU', 'title_War for the Overworld',\n",
      "       'title_Wargame: Airland Battle', 'title_Wargame: Red Dragon',\n",
      "       'title_Warhammer 40000: Dawn of War II: Retribution',\n",
      "       'title_Warhammer(r) 40000(tm): Dawn of War(r) II',\n",
      "       'title_Wasteland 2: Directors Cut', 'title_XCOM(r) 2',\n",
      "       'title_XCOM: Enemy Unknown', 'title_Yet Another Zombie Defense'],\n",
      "      dtype='object', length=139)\n"
     ]
    }
   ],
   "source": [
    "# Now, creating coefficient dataframe for game titles\n",
    "coeff_title = coeff2.loc[:, coeff2.columns.str.startswith('title')]\n",
    "\n",
    "# Printing column names for the review-text-coefficient dataframe\n",
    "print(f\"Column names for the game-title coefficient dataframe: {coeff_title.columns}\")"
   ]
  },
  {
   "cell_type": "markdown",
   "id": "dc0362be",
   "metadata": {},
   "source": [
    "## Top 20 Most Sentiment-predictive Words\n",
    "\n",
    "First, we will create coefficient-dataframe for review text."
   ]
  },
  {
   "cell_type": "code",
   "execution_count": 43,
   "id": "f8424fd1",
   "metadata": {
    "ExecuteTime": {
     "end_time": "2021-10-06T21:06:44.004564Z",
     "start_time": "2021-10-06T21:06:43.985616Z"
    }
   },
   "outputs": [
    {
     "name": "stdout",
     "output_type": "stream",
     "text": [
      "Column names for the review-text coefficient dataframe: Index(['00', '000', '01', '010', '019', '02', '05', '06', '099', '10',\n",
      "       ...\n",
      "       'zelda', 'zen', 'zerg', 'zero', 'zeus', 'zip', 'zombi', 'zone', 'zoo',\n",
      "       'zoom'],\n",
      "      dtype='object', length=7589)\n"
     ]
    }
   ],
   "source": [
    "# Creating coefficient dataframe for review text\n",
    "coeff_text = coeff2[coeff2.columns.drop(list(coeff2.filter(regex='title')))]\n",
    "\n",
    "# Printing column names for the review-text coefficient dataframe\n",
    "print(f\"Column names for the review-text coefficient dataframe: {coeff_text.columns}\")"
   ]
  },
  {
   "cell_type": "code",
   "execution_count": 44,
   "id": "80455eee",
   "metadata": {
    "ExecuteTime": {
     "end_time": "2021-10-06T21:07:58.527603Z",
     "start_time": "2021-10-06T21:07:58.515613Z"
    }
   },
   "outputs": [],
   "source": [
    "# Transposing the review-text coefficient so that the previously-column-names becomes the row index and the first column represents the coefficients\n",
    "coeff_text = coeff_text.transpose()\n",
    "\n",
    "# Changing column name from the intercept value to 'coeff'\n",
    "coeff_text.set_axis(['coeff'], axis=1, inplace=True)"
   ]
  },
  {
   "cell_type": "markdown",
   "id": "8245fb52",
   "metadata": {},
   "source": [
    "### Positive Sentiment-predictive Words\n",
    "\n",
    "Now we will check which 30 words were most predictive of positive sentiment:"
   ]
  },
  {
   "cell_type": "code",
   "execution_count": 47,
   "id": "4c934856",
   "metadata": {
    "ExecuteTime": {
     "end_time": "2021-10-06T21:11:53.805767Z",
     "start_time": "2021-10-06T21:11:53.785821Z"
    }
   },
   "outputs": [],
   "source": [
    "# Sorting the coefficients in descending order and taking the top 30\n",
    "coeff_text_top30 = coeff_text.sort_values(by='coeff', ascending=False).head(30).reset_index()"
   ]
  },
  {
   "cell_type": "code",
   "execution_count": 48,
   "id": "63900c80",
   "metadata": {
    "ExecuteTime": {
     "end_time": "2021-10-06T21:11:55.017006Z",
     "start_time": "2021-10-06T21:11:54.698771Z"
    }
   },
   "outputs": [
    {
     "data": {
      "text/plain": [
       "<function matplotlib.pyplot.show(close=None, block=None)>"
      ]
     },
     "execution_count": 48,
     "metadata": {},
     "output_type": "execute_result"
    },
    {
     "data": {
      "image/png": "[encoded data removed]",
      "text/plain": [
       "<Figure size 1440x432 with 1 Axes>"
      ]
     },
     "metadata": {
      "needs_background": "light"
     },
     "output_type": "display_data"
    }
   ],
   "source": [
    "# Plotting the top 30 words predictive of positive reviews in a bar chart\n",
    "plt.figure(figsize=(20, 6))\n",
    "plt.bar(coeff_text_top30['index'], coeff_text_top30['coeff'])\n",
    "plt.xlabel('Words most predictive of positive reviews', fontsize=12)\n",
    "plt.ylabel('Coefficient', fontsize=12)\n",
    "plt.xticks(rotation=45, fontsize=14)\n",
    "plt.title(\"Top 30 words most predictive of positive reviews\", fontsize=20)\n",
    "sns.despine()\n",
    "plt.show"
   ]
  },
  {
   "cell_type": "markdown",
   "id": "f98eb3c7",
   "metadata": {},
   "source": [
    "We can see from the above that the top 30 words most predictive of positive sentiment:\n",
    "- Did not provide much of an insight as they included rather generic positive-sentiment-expressing words such as \"best\", \"amazing\", \"great\", \"awesome\", etc.\n",
    "- Included a few numeric strings such as \"1010\", \"910\", \"810\", \"1110\" and \"710\". These are also not insightful as they clearly refers to numerical rating that the reviewer gave the game in text: \"10/10\", \"9/10\", \"8/10\", \"11/10\", \"7/10\", etc.\n",
    "- A couple of words that may have been valuable were \"challenging\" and \"addictive\", referring to gameplay experience that the reviewers liked and perhaps we can consider pondering if our game lacks challenging and/or addictive gameplay elements.\n",
    "\n",
    "We perhaps need to consider look into doing N-grams to generate some insightful set of words."
   ]
  },
  {
   "cell_type": "markdown",
   "id": "a84bcbf0",
   "metadata": {},
   "source": [
    "### Negative Sentiment-predictive Words\n",
    "\n",
    "Now, we move on to the top 30 words most predictive of negative sentiment to see if we find any insights from there:"
   ]
  },
  {
   "cell_type": "code",
   "execution_count": 51,
   "id": "f66d303a",
   "metadata": {
    "ExecuteTime": {
     "end_time": "2021-10-06T21:22:00.520778Z",
     "start_time": "2021-10-06T21:22:00.513797Z"
    }
   },
   "outputs": [],
   "source": [
    "# Sorting the coefficients in ascending order and taking the top 30 (i.e., bottom 30 if was in descending order)\n",
    "coeff_text_bottom30 = coeff_text.sort_values(by='coeff', ascending=True).head(30).reset_index()"
   ]
  },
  {
   "cell_type": "code",
   "execution_count": 52,
   "id": "a6536474",
   "metadata": {
    "ExecuteTime": {
     "end_time": "2021-10-06T21:22:01.482758Z",
     "start_time": "2021-10-06T21:22:01.171569Z"
    },
    "scrolled": false
   },
   "outputs": [
    {
     "data": {
      "text/plain": [
       "<function matplotlib.pyplot.show(close=None, block=None)>"
      ]
     },
     "execution_count": 52,
     "metadata": {},
     "output_type": "execute_result"
    },
    {
     "data": {
      "image/png": "[encoded data removed]",
      "text/plain": [
       "<Figure size 1440x432 with 1 Axes>"
      ]
     },
     "metadata": {
      "needs_background": "light"
     },
     "output_type": "display_data"
    }
   ],
   "source": [
    "# Plotting the top 30 words predictive of positive reviews in a bar chart\n",
    "plt.figure(figsize=(20, 6))\n",
    "plt.bar(coeff_text_bottom30['index'], coeff_text_bottom30['coeff'], color='red')\n",
    "plt.xlabel('Words most predictive of positive reviews', fontsize=12)\n",
    "plt.ylabel('Coefficient', fontsize=12)\n",
    "plt.xticks(rotation=45, fontsize=14)\n",
    "plt.title(\"Top 30 words most predictive of negative reviews\", fontsize=20)\n",
    "sns.despine()\n",
    "plt.show"
   ]
  },
  {
   "cell_type": "markdown",
   "id": "4dff59c7",
   "metadata": {},
   "source": [
    "Amidst the rather generic positive-sentiment-expressing words such as \"worst\", \"poor\", \"terrible\", \"unplayable\", etc., we see a few insightful words:\n",
    "\n",
    "- \"crash\" and \"broken\", likely pointing to the game crashing that caused frustration to the reviewer. We need to ensure our game does not have any bugs that may cause it to crash.\n",
    "- \"repetitive\", which cautions us that our gameplay elements, stories, character arcs (if any) etc. do not come across as repetitive to the gamers.\n",
    "- \"shallow\", likely pointing to a shallow storyline, character arc, or even gameplay elements/experience, which we may need to be aware of in relation to our game.\n",
    "- \"slow\", which can be tied to the \"addictive\" and \"challenging\" words we found above that were predictive of positive sentiments. We need to ensure that the gamer does not find our game slow but rather fast-paced and challenging."
   ]
  },
  {
   "cell_type": "markdown",
   "id": "18210aef",
   "metadata": {},
   "source": [
    "## Top 20 Most Positive/Negative-experience Inducing Games\n",
    "\n",
    "Now we look into which games generated the most positive or negative sentiment among the reviewers."
   ]
  },
  {
   "cell_type": "code",
   "execution_count": 57,
   "id": "d498a510",
   "metadata": {
    "ExecuteTime": {
     "end_time": "2021-10-06T21:39:02.706049Z",
     "start_time": "2021-10-06T21:39:02.700092Z"
    }
   },
   "outputs": [],
   "source": [
    "# Transposing the review-text coefficient so that the previously-column-names becomes the row index and the first column represents the coefficients\n",
    "coeff_title = coeff_title.transpose()\n",
    "\n",
    "# Changing column name from the intercept value to 'coeff'\n",
    "coeff_title.set_axis(['coeff'], axis=1, inplace=True)"
   ]
  },
  {
   "cell_type": "markdown",
   "id": "ad757fb3",
   "metadata": {},
   "source": [
    "### Top 20 Most Positively-received Games\n",
    "\n",
    "Plotting the top 20 games that generated the most positive sentiment:"
   ]
  },
  {
   "cell_type": "code",
   "execution_count": 93,
   "id": "5864cc1c",
   "metadata": {
    "ExecuteTime": {
     "end_time": "2021-10-06T21:50:14.955145Z",
     "start_time": "2021-10-06T21:50:14.939175Z"
    }
   },
   "outputs": [],
   "source": [
    "# Sorting the coefficients in descending order and taking the top 20\n",
    "coeff_title_top20 = coeff_title.sort_values(by='coeff', ascending=False).head(20).reset_index()\n",
    "\n",
    "# Reversing the order (making ascending order) otherwise the next plot sorts in ascending order\n",
    "coeff_title_top20 = coeff_title_top20.sort_values(by='coeff', ascending=True)"
   ]
  },
  {
   "cell_type": "code",
   "execution_count": 94,
   "id": "50048c08",
   "metadata": {
    "ExecuteTime": {
     "end_time": "2021-10-06T21:50:18.064277Z",
     "start_time": "2021-10-06T21:50:17.762890Z"
    }
   },
   "outputs": [
    {
     "data": {
      "text/plain": [
       "<function matplotlib.pyplot.show(close=None, block=None)>"
      ]
     },
     "execution_count": 94,
     "metadata": {},
     "output_type": "execute_result"
    },
    {
     "data": {
      "image/png": "[encoded data removed]",
      "text/plain": [
       "<Figure size 432x720 with 1 Axes>"
      ]
     },
     "metadata": {
      "needs_background": "light"
     },
     "output_type": "display_data"
    }
   ],
   "source": [
    "# Plotting the top 20 games that generated the most positive sentiment\n",
    "plt.figure(figsize=(6, 10))\n",
    "plt.barh(coeff_title_top20['index'], coeff_title_top20['coeff'])\n",
    "plt.xlabel('Coefficient', fontsize=12)\n",
    "plt.ylabel('Words most predictive of positive reviews', fontsize=12)\n",
    "plt.xticks(fontsize=14)\n",
    "plt.title(\"Top 20 most positively-received games\", fontsize=20)\n",
    "sns.despine()\n",
    "plt.show"
   ]
  },
  {
   "cell_type": "markdown",
   "id": "168915ca",
   "metadata": {},
   "source": [
    "This is an important insight. We can check the top games and identify the ones that align closely with our game in terms of gameplay elements and experience, and check how close ours are to these. The closer our game's gameplay elements are to these, we can say that, implicitly, the higher the probability that our game will also be positively received."
   ]
  },
  {
   "cell_type": "markdown",
   "id": "b5b85ab4",
   "metadata": {},
   "source": [
    "### Top 20 Negatively-received Games\n",
    "\n",
    "Plotting the top 20 games that generated negative sentiment most often:"
   ]
  },
  {
   "cell_type": "code",
   "execution_count": 104,
   "id": "4e70fb83",
   "metadata": {
    "ExecuteTime": {
     "end_time": "2021-10-06T21:56:23.439193Z",
     "start_time": "2021-10-06T21:56:23.419233Z"
    }
   },
   "outputs": [],
   "source": [
    "# Sorting the coefficients in ascending order and taking the top 20\n",
    "coeff_title_bottom20 = coeff_title.sort_values(by='coeff', ascending=True).head(20).reset_index()\n",
    "\n",
    "# Reversing the order (making descending order) otherwise the next plot sorts in ascending order\n",
    "coeff_title_bottom20 = coeff_title_bottom20.sort_values(by='coeff', ascending=False)"
   ]
  },
  {
   "cell_type": "code",
   "execution_count": 105,
   "id": "6bc8dc18",
   "metadata": {
    "ExecuteTime": {
     "end_time": "2021-10-06T21:56:23.871779Z",
     "start_time": "2021-10-06T21:56:23.555090Z"
    }
   },
   "outputs": [
    {
     "data": {
      "text/plain": [
       "<function matplotlib.pyplot.show(close=None, block=None)>"
      ]
     },
     "execution_count": 105,
     "metadata": {},
     "output_type": "execute_result"
    },
    {
     "data": {
      "image/png": "[encoded data removed]",
      "text/plain": [
       "<Figure size 432x720 with 1 Axes>"
      ]
     },
     "metadata": {
      "needs_background": "light"
     },
     "output_type": "display_data"
    }
   ],
   "source": [
    "# Plotting the top 20 games that generated the most negative sentiment\n",
    "plt.figure(figsize=(6, 10))\n",
    "plt.barh(coeff_title_bottom20['index'], coeff_title_bottom20['coeff'], color='red')\n",
    "plt.xlabel('Coefficient', fontsize=12)\n",
    "plt.ylabel('Words most predictive of positive reviews', fontsize=12)\n",
    "plt.xticks(fontsize=14)\n",
    "plt.title(\"Top 20 most negatively-received games\", fontsize=20)\n",
    "sns.despine()\n",
    "plt.show"
   ]
  },
  {
   "cell_type": "markdown",
   "id": "6441cc27",
   "metadata": {},
   "source": [
    "Hand in hand with the plot above this, this is another important insight in the way that we should check these bottom-of-the-barrel games (in terms of review sentiment) and identify the ones that have gameplay elements and experience that may be in common with our game. The closer our game's gameplay elements are to these, we can say that, implicitly, the higher the probability that our game will also be negatively received."
   ]
  },
  {
   "cell_type": "markdown",
   "id": "39d4c492",
   "metadata": {},
   "source": [
    "---\n",
    "# Conclusion\n",
    "\n",
    "We can confidently conclude that this model performed fantastically as we have observed:\n",
    "- [Very high train and test accuracy scores](#Accuracy-Scores) (both over 85%)\n",
    "- [Very small difference between the train and test accuracy scores](#Accuracy-Scores) (less than 2% difference between the two scores)\n",
    "- Very high [precision](#Precision), [recall](#Recall), [F1](#F1-Score) as well as [ROC AUC scores](#ROC-AUC) (all above 85%)\n",
    "\n",
    "Statistically speaking, if we had to blindly guess the class (positive/negative) for a review, we would have been expected to be correct about 50% of the time (as the dataset's class distribution is 50/50). From this standpoint, this ML model has **added significant value by adding a substantial (more than 35%) increase in accuracy** in predicting the classes based on input values.\n",
    "\n",
    "For quick reference, the accuracy, precision, recall, and F1 scores are also summarized and tabulated below:"
   ]
  },
  {
   "cell_type": "code",
   "execution_count": 63,
   "id": "1871b6d2",
   "metadata": {
    "ExecuteTime": {
     "end_time": "2021-10-06T03:39:54.196169Z",
     "start_time": "2021-10-06T03:39:53.986921Z"
    }
   },
   "outputs": [
    {
     "name": "stdout",
     "output_type": "stream",
     "text": [
      "[[5878  968]\n",
      " [1036 5930]]\n",
      "              precision    recall  f1-score   support\n",
      "\n",
      "           0       0.85      0.86      0.85      6846\n",
      "           1       0.86      0.85      0.86      6966\n",
      "\n",
      "    accuracy                           0.85     13812\n",
      "   macro avg       0.85      0.85      0.85     13812\n",
      "weighted avg       0.85      0.85      0.85     13812\n",
      "\n",
      "0.8549087749782798\n"
     ]
    }
   ],
   "source": [
    "from sklearn.metrics import classification_report, confusion_matrix, accuracy_score\n",
    "\n",
    "print(confusion_matrix(y_test,y_pred))\n",
    "print(classification_report(y_test,y_pred))\n",
    "print(accuracy_score(y_test, y_pred))"
   ]
  },
  {
   "cell_type": "code",
   "execution_count": 108,
   "id": "be055362",
   "metadata": {
    "ExecuteTime": {
     "end_time": "2021-10-06T22:16:57.688288Z",
     "start_time": "2021-10-06T22:16:57.676312Z"
    }
   },
   "outputs": [],
   "source": [
    "# Saving the best model locally for retrieval in later part of the project as needed\n",
    "\n",
    "## Importing pickle\n",
    "import pickle\n",
    "\n",
    "## Saving the model locally\n",
    "pickle.dump(logreg_best, open('model1_logreg_final.sav', 'wb'))"
   ]
  }
 ],
 "metadata": {
  "hide_input": false,
  "kernelspec": {
   "display_name": "Python 3",
   "language": "python",
   "name": "python3"
  },
  "language_info": {
   "codemirror_mode": {
    "name": "ipython",
    "version": 3
   },
   "file_extension": ".py",
   "mimetype": "text/x-python",
   "name": "python",
   "nbconvert_exporter": "python",
   "pygments_lexer": "ipython3",
   "version": "3.8.8"
  },
  "toc": {
   "base_numbering": 1,
   "nav_menu": {},
   "number_sections": true,
   "sideBar": true,
   "skip_h1_title": false,
   "title_cell": "Table of Contents",
   "title_sidebar": "Contents",
   "toc_cell": false,
   "toc_position": {
    "height": "calc(100% - 180px)",
    "left": "10px",
    "top": "150px",
    "width": "362px"
   },
   "toc_section_display": true,
   "toc_window_display": true
  }
 },
 "nbformat": 4,
 "nbformat_minor": 5
}
