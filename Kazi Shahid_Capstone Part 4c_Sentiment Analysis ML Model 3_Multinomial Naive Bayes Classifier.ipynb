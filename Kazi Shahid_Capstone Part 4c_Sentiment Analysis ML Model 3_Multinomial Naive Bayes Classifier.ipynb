{
 "cells": [
  {
   "cell_type": "markdown",
   "id": "dc660767",
   "metadata": {},
   "source": [
    "<div id=\"container\" style=\"position:relative;\">\n",
    "<div style=\"float:left\">\n",
    "\n",
    "***Kazi Shahid***\n",
    "\n",
    "***BrainStation Data Science Diploma Candidate***\n",
    "\n",
    "***Capstone Project***\n",
    "\n",
    "=============================================================\n",
    "\n",
    "***Project SteamBuzz: Will Our Game Create a Buzz in the Steam community?***\n",
    "\n",
    "***Part 4 (c): Sentiment Analysis ML Model 3 - Naive Bayes Classifier***\n",
    "</div>\n",
    "<div style=\"position:relative; float:right\"><img style=\"height:100px\" src =\"https://i.ibb.co/mcvpL4Z/Steam-Buzz-logo.png\" />\n",
    "</div>\n",
    "</div>"
   ]
  },
  {
   "cell_type": "markdown",
   "id": "b73ddd67",
   "metadata": {},
   "source": [
    "---\n",
    "# Overview\n",
    "\n",
    "In this part of the project, we will train a Naive Bayes (\"NB\") classifier on the data - more specifically, the multinomial NB classifier.\n",
    "\n",
    "A multinomial NB is a probabilistic learning method that is mostly used in NLP. According to [its documentation](https://scikit-learn.org/stable/modules/generated/sklearn.naive_bayes.MultinomialNB.html): \"*The multinomial Naive Bayes classifier is suitable for classification with discrete features (e.g., word counts for text classification). The multinomial distribution normally requires integer feature counts. However, in practice, fractional counts such as tf-idf may also work.*\""
   ]
  },
  {
   "cell_type": "markdown",
   "id": "1c8a41cf",
   "metadata": {},
   "source": [
    "---\n",
    "# Process Flow\n",
    "\n",
    "The process flow for this part of the project is as follows:\n",
    "\n",
    "1. Loading the dataset as was prepared and preprocessed in Part 3 of the project\n",
    "2. Employing the classifier and optimizing its hyperparameters through Grid Search and cross validation\n",
    "3. Choosing the parameter values for which the classifier performed the best and re-employing the classifier with the optimized hyperparameters\n",
    "4. Evaluating the model using the appropriate performance measures\n",
    "5. Derive any valuable insights from the model\n",
    "6. Wrapping up with concluding remarks, summarizing the findings"
   ]
  },
  {
   "cell_type": "code",
   "execution_count": 1,
   "id": "d9cdb1af",
   "metadata": {
    "ExecuteTime": {
     "end_time": "2021-10-06T22:58:46.026951Z",
     "start_time": "2021-10-06T22:58:42.951399Z"
    }
   },
   "outputs": [],
   "source": [
    "# Importing the necessary data analysis and visualization toolkits\n",
    "import pandas as pd\n",
    "import numpy as np\n",
    "import matplotlib.pyplot as plt\n",
    "%matplotlib inline\n",
    "import seaborn as sns\n",
    "\n",
    "# To display ALL the columns in the dataframes\n",
    "pd.options.display.max_columns=None\n",
    "\n",
    "# To display a considerable extent (first 500 characters) of the content of each column of the dataframes\n",
    "pd.set_option('display.max_colwidth', 100)\n",
    "\n",
    "# Filtering out potential warnings\n",
    "import warnings\n",
    "warnings.filterwarnings('ignore')"
   ]
  },
  {
   "cell_type": "markdown",
   "id": "50e39a0b",
   "metadata": {},
   "source": [
    "---\n",
    "# Loading the Training and Test Datasets\n",
    "\n",
    "First, we load the X (features) and y (target) training and test datasets as cleaned up in Part 3 of the project, and check that their shapes to confirm that they loaded correctly."
   ]
  },
  {
   "cell_type": "code",
   "execution_count": 2,
   "id": "4b160489",
   "metadata": {
    "ExecuteTime": {
     "end_time": "2021-10-06T22:58:49.324037Z",
     "start_time": "2021-10-06T22:58:47.252474Z"
    }
   },
   "outputs": [],
   "source": [
    "# Importing the X_train, X_test, y_train, and y_test datasets from the respective pickle files into Pandas DataFrame forms\n",
    "X_train = pd.read_pickle(\"data\\\\X_train.pkl\")\n",
    "X_test = pd.read_pickle(\"data\\\\X_test.pkl\")\n",
    "y_train = pd.read_pickle(\"data\\y_train.pkl\")\n",
    "y_test = pd.read_pickle(\"data\\y_test.pkl\")\n",
    "\n",
    "# Note: The destination paths above includes a duplicated backslash (\"\\\\\") rather than single (\"\\\") as otherwise it shows the below error\n",
    "# \"SyntaxError: (unicode error) 'unicodeescape' codec can't decode bytes in position 4-5: truncated \\xXX escape\"\n",
    "# This is because the \"\\x...\" (\"\\x_train\" in our case) starts an 8-character Unicode escape where digits follow the \"\\x\"\n",
    "# But in our case, digits do not follow the \"\\x...\" (\"\\x_train\" in our case), making the escape invalid and throwing an error\n",
    "# This error has been resolved based on https://stackoverflow.com/a/1347854"
   ]
  },
  {
   "cell_type": "code",
   "execution_count": 3,
   "id": "b01dc933",
   "metadata": {
    "ExecuteTime": {
     "end_time": "2021-10-06T22:58:49.948780Z",
     "start_time": "2021-10-06T22:58:49.931825Z"
    }
   },
   "outputs": [
    {
     "name": "stdout",
     "output_type": "stream",
     "text": [
      "Shape of X_train dataset: (55248, 7729)\n",
      "Shape of X_test dataset: (13812, 7729)\n",
      "Shape of y_train dataset: (55248,)\n",
      "Shape of y_test dataset: (13812,)\n"
     ]
    }
   ],
   "source": [
    "# Checking that the datasets loaded correctly, displaying the shapes\n",
    "## Displaying the dataframes themselves take a lot of time, hence choosing to display their shapes\n",
    "print(f\"Shape of X_train dataset: {X_train.shape}\")\n",
    "print(f\"Shape of X_test dataset: {X_test.shape}\")\n",
    "print(f\"Shape of y_train dataset: {y_train.shape}\")\n",
    "print(f\"Shape of y_test dataset: {y_test.shape}\")"
   ]
  },
  {
   "cell_type": "markdown",
   "id": "52c9add6",
   "metadata": {},
   "source": [
    "The shapes of the four sets exactly match the outputs in Part 3 of the project. We can proceed with working them into our ML model in this part."
   ]
  },
  {
   "cell_type": "markdown",
   "id": "1432e299",
   "metadata": {},
   "source": [
    "# Selection of Hyperparameters for Multinomial Naive Bayes Classifier\n",
    "\n",
    "The definition and overview of Multinomial Naive Bayes (\"Multinomial NB\") has been discussed in Part 4 of this project. A full list and description of the hyperparameters we can tune in a Multinomial NB can be found in [its documentation](https://scikit-learn.org/stable/modules/generated/sklearn.naive_bayes.MultinomialNB.html).\n",
    "\n",
    "We will consider setting / tuning the three most impactful and important hyperparameters for a Multinomial NB, as discussed below.\n",
    "\n",
    "\n",
    "## Smoothing Parameter *(`alpha` Parameter)*\n",
    "\n",
    "Alpha is a smoothing parameter that tackles the issue of having a zero probability in Naive Bayes. In a text-based problem as in our sentiment analysis, for example, we are trying to predict, say, the probability of a review being rated positively under the condition that four certain words have been mentioned in the review. This probability, according to the formula of conditional probability, will be a product of the probabilities of each word coming up in the review. Now, if one of these words did not occur, then we can either (a) disregard it (take it out of the equation), which is the same as assigning a probability of 1 to the word not occurring, which is not practicable or (b) consider it in the equation with a probability of zero, which essentially makes the probabilities of the review being rated positively and negatively zero (as it is a product of some terms where one has been deemed zero), which is also not practicable. In order to tackle this issue, **Laplace smoothing** was introduced to handle this problem of zero probability. More information and explanation can be found in [this article](https://towardsdatascience.com/laplace-smoothing-in-na%C3%AFve-bayes-algorithm-9c237a8bdece), among many others available online and offline.\n",
    "\n",
    "According to [its documentation](https://scikit-learn.org/stable/modules/generated/sklearn.naive_bayes.MultinomialNB.html), the alpha parameter takes a `1` value by default, which can be changed to some other float value, while a zero value translates to no smoothing.\n",
    "\n",
    "For our analysis, we will cycle through a range of alpha values to see which gives the best result for the model. The lowest it can go is zero, and it can go higher, much beyond 1. However, `alpha=1` is generally used, in order to remove the zero-probability issue. The higher we go, the likelihood increases towards a value of 0.5, i.e., a word becomes equally probable (0.5 probability) to be indicative of both the positive and negative reviews, which does not give us much information. Therefore, it is generally preferred to use `alpha=1`. However, we will cycle through some values between 0 and 1 to see model performances.\n",
    "\n",
    "\n",
    "## Prior Probabilities of the Classes *(`class_prior` Parameter)*\n",
    "\n",
    "The `class_prior`hyperparameter can take an array of values which specifies prior probabilities of the classes (default is `None`). If this hyperparameter value is specified as such, then the priors are *not* adjusted according to the data.\n",
    "\n",
    "When we addressed the class imbalance issue in Part 3 of the project, we obtained a 50/50 distribution for the two classes, which would translate to the prior probabilities of the classes for this model. We will therefore set `class_prior=[0.5, 0.5]` for our model.\n",
    "\n",
    "\n",
    "## Learning Class Prior Probabilities *(`fit_prior` Parameter)*\n",
    "\n",
    "The `fit_prior` hyperparameter takes a boolean value of either `True` (default value) or `False`, to determine whether to learn class prior probabilities or not. If set to `False`, a **uniform prior** will be used.\n",
    "\n",
    "Given the above, we can:\n",
    "- Either set `class_prior=[0.5, 0.5]`, meaning we need to set `fit_prior=True`,\n",
    "- Or, simply keep `fit_prior=False` (and leave out `class_prior`), as `fit_prior=False` triggers a *uniform prior* to be used, translating to the same as above as we have 50%/50% prior probabilities for the two classes occurring (i.e., uniform prior probabilities).\n",
    "\n",
    "To take the simpler route that yields the same results, we will set `fit_prior=False` and leave out `class_prior`."
   ]
  },
  {
   "cell_type": "markdown",
   "id": "9427cd78",
   "metadata": {},
   "source": [
    "# Employing Multinomial Naive Bayes Classifier\n",
    "\n",
    "We now employ our Multinomial NB. First, we will optimize the hyperparameters via 5-fold cross validation using `GridSearchCV`.\n",
    "\n",
    "\n",
    "## Instantiating a Multinomial NB Object\n",
    "\n",
    "We start by instantiating a Multinomial NB object for our modelling. Then we will set up the function to iterate through the two hyperparameters chosen for this model in line with our [hyperparameter selection section above](#Selection-of-Hyperparameters-for-Multinomial-Naive-Bayes-Classifier)."
   ]
  },
  {
   "cell_type": "code",
   "execution_count": 4,
   "id": "0296392d",
   "metadata": {
    "ExecuteTime": {
     "end_time": "2021-10-06T22:58:55.624193Z",
     "start_time": "2021-10-06T22:58:54.683880Z"
    }
   },
   "outputs": [],
   "source": [
    "# Importing Multinomial Naive Bayes (MultinomialNB) from scikit-learn library's Naive Bayes module\n",
    "from sklearn.naive_bayes import MultinomialNB\n",
    "\n",
    "# Instantiating a SVC object for our modelling (not passing any parameters yet as we will set them and iterate through later)\n",
    "mnb = MultinomialNB()"
   ]
  },
  {
   "cell_type": "markdown",
   "id": "17c598dd",
   "metadata": {},
   "source": [
    "## Hyperparameter Setup\n",
    "\n",
    "We are defining the hyperparameters that we are looking to optimize for our multinomial NB classifier which, for our dataset, is only the `alpha` parameter as discussed in the [hyperparameter selection section above](#Selection-of-Hyperparameters-for-Multinomial-Naive-Bayes-Classifier). We will take a range of values to iterate through and set them as such: `alpha = 0.0001, 0.001, 0.01, 0.1, 1.0`."
   ]
  },
  {
   "cell_type": "code",
   "execution_count": 7,
   "id": "95321dc2",
   "metadata": {
    "ExecuteTime": {
     "end_time": "2021-10-06T23:07:23.025784Z",
     "start_time": "2021-10-06T23:07:23.018803Z"
    }
   },
   "outputs": [],
   "source": [
    "# Creating a dictionary for the hyperparameters to iterate through and optimize as discussed in the section above\n",
    "parameters = {'alpha': [0.0001, 0.001, 0.01, 0.1, 1.0],\n",
    "              'fit_prior': [False]}"
   ]
  },
  {
   "cell_type": "markdown",
   "id": "512035f8",
   "metadata": {},
   "source": [
    "## GridSearchCV Setup\n",
    "\n",
    "Now we will set up the `GridSearchCV` with the appropriate values."
   ]
  },
  {
   "cell_type": "code",
   "execution_count": 57,
   "id": "dfef907d",
   "metadata": {
    "ExecuteTime": {
     "end_time": "2021-10-06T00:41:58.621924Z",
     "start_time": "2021-10-06T00:41:58.596940Z"
    }
   },
   "outputs": [],
   "source": [
    "# Importing GridSearchCV from scikit-learn library's model_selection module\n",
    "from sklearn.model_selection import GridSearchCV"
   ]
  },
  {
   "cell_type": "code",
   "execution_count": 54,
   "id": "64ec4e6d",
   "metadata": {
    "ExecuteTime": {
     "end_time": "2021-10-05T20:19:10.869133Z",
     "start_time": "2021-10-05T20:19:10.861152Z"
    }
   },
   "outputs": [],
   "source": [
    "# Creating a Multinomial NB object for GridSearchCV\n",
    "## Asking the GridSearchCV to iterate through the parameters values we set above\n",
    "## Setting the cross validation fold to 5\n",
    "mnb_gscv = GridSearchCV(mnb, parameters, cv=5)"
   ]
  },
  {
   "cell_type": "markdown",
   "id": "9d5e7eff",
   "metadata": {},
   "source": [
    "## Hyperparameter Optimization\n",
    "\n",
    "Now we will optimize the hyperparameters by iterating through the parameter values, testing via cross validation, and checking the results with which the classifier performed the best."
   ]
  },
  {
   "cell_type": "code",
   "execution_count": 55,
   "id": "0205ad89",
   "metadata": {
    "ExecuteTime": {
     "end_time": "2021-10-05T20:28:53.063557Z",
     "start_time": "2021-10-05T20:19:16.447334Z"
    }
   },
   "outputs": [
    {
     "data": {
      "text/plain": [
       "GridSearchCV(cv=5, estimator=MultinomialNB(),\n",
       "             param_grid={'alpha': [0.0001, 0.001, 0.01, 0.1, 1.0],\n",
       "                         'fit_prior': [False]})"
      ]
     },
     "execution_count": 55,
     "metadata": {},
     "output_type": "execute_result"
    }
   ],
   "source": [
    "mnb_gscv.fit(X_train, y_train)"
   ]
  },
  {
   "cell_type": "markdown",
   "id": "3d724b69",
   "metadata": {},
   "source": [
    "Now we look at the GridSearchCV result to identify the optimum value of the hyperparameter `alpha`:"
   ]
  },
  {
   "cell_type": "code",
   "execution_count": 56,
   "id": "ad4527a6",
   "metadata": {
    "ExecuteTime": {
     "end_time": "2021-10-05T20:54:05.507662Z",
     "start_time": "2021-10-05T20:54:05.438925Z"
    }
   },
   "outputs": [
    {
     "data": {
      "text/html": [
       "<div>\n",
       "<style scoped>\n",
       "    .dataframe tbody tr th:only-of-type {\n",
       "        vertical-align: middle;\n",
       "    }\n",
       "\n",
       "    .dataframe tbody tr th {\n",
       "        vertical-align: top;\n",
       "    }\n",
       "\n",
       "    .dataframe thead th {\n",
       "        text-align: right;\n",
       "    }\n",
       "</style>\n",
       "<table border=\"1\" class=\"dataframe\">\n",
       "  <thead>\n",
       "    <tr style=\"text-align: right;\">\n",
       "      <th></th>\n",
       "      <th>mean_fit_time</th>\n",
       "      <th>std_fit_time</th>\n",
       "      <th>mean_score_time</th>\n",
       "      <th>std_score_time</th>\n",
       "      <th>param_alpha</th>\n",
       "      <th>param_fit_prior</th>\n",
       "      <th>params</th>\n",
       "      <th>split0_test_score</th>\n",
       "      <th>split1_test_score</th>\n",
       "      <th>split2_test_score</th>\n",
       "      <th>split3_test_score</th>\n",
       "      <th>split4_test_score</th>\n",
       "      <th>mean_test_score</th>\n",
       "      <th>std_test_score</th>\n",
       "      <th>rank_test_score</th>\n",
       "    </tr>\n",
       "  </thead>\n",
       "  <tbody>\n",
       "    <tr>\n",
       "      <th>0</th>\n",
       "      <td>22.145102</td>\n",
       "      <td>0.762179</td>\n",
       "      <td>0.707188</td>\n",
       "      <td>0.040107</td>\n",
       "      <td>0.0001</td>\n",
       "      <td>False</td>\n",
       "      <td>{'alpha': 0.0001, 'fit_prior': False}</td>\n",
       "      <td>0.810769</td>\n",
       "      <td>0.803529</td>\n",
       "      <td>0.812489</td>\n",
       "      <td>0.812834</td>\n",
       "      <td>0.816454</td>\n",
       "      <td>0.811215</td>\n",
       "      <td>0.004265</td>\n",
       "      <td>5</td>\n",
       "    </tr>\n",
       "    <tr>\n",
       "      <th>1</th>\n",
       "      <td>21.489421</td>\n",
       "      <td>0.782026</td>\n",
       "      <td>0.698877</td>\n",
       "      <td>0.035350</td>\n",
       "      <td>0.001</td>\n",
       "      <td>False</td>\n",
       "      <td>{'alpha': 0.001, 'fit_prior': False}</td>\n",
       "      <td>0.810860</td>\n",
       "      <td>0.803439</td>\n",
       "      <td>0.812308</td>\n",
       "      <td>0.813105</td>\n",
       "      <td>0.816635</td>\n",
       "      <td>0.811269</td>\n",
       "      <td>0.004353</td>\n",
       "      <td>4</td>\n",
       "    </tr>\n",
       "    <tr>\n",
       "      <th>2</th>\n",
       "      <td>22.689338</td>\n",
       "      <td>0.780062</td>\n",
       "      <td>0.746787</td>\n",
       "      <td>0.046949</td>\n",
       "      <td>0.01</td>\n",
       "      <td>False</td>\n",
       "      <td>{'alpha': 0.01, 'fit_prior': False}</td>\n",
       "      <td>0.810950</td>\n",
       "      <td>0.803439</td>\n",
       "      <td>0.813122</td>\n",
       "      <td>0.813105</td>\n",
       "      <td>0.816363</td>\n",
       "      <td>0.811396</td>\n",
       "      <td>0.004338</td>\n",
       "      <td>3</td>\n",
       "    </tr>\n",
       "    <tr>\n",
       "      <th>3</th>\n",
       "      <td>21.969946</td>\n",
       "      <td>0.187508</td>\n",
       "      <td>0.717854</td>\n",
       "      <td>0.022352</td>\n",
       "      <td>0.1</td>\n",
       "      <td>False</td>\n",
       "      <td>{'alpha': 0.1, 'fit_prior': False}</td>\n",
       "      <td>0.811222</td>\n",
       "      <td>0.803529</td>\n",
       "      <td>0.813484</td>\n",
       "      <td>0.813286</td>\n",
       "      <td>0.816725</td>\n",
       "      <td>0.811649</td>\n",
       "      <td>0.004426</td>\n",
       "      <td>2</td>\n",
       "    </tr>\n",
       "    <tr>\n",
       "      <th>4</th>\n",
       "      <td>21.972483</td>\n",
       "      <td>1.041963</td>\n",
       "      <td>0.706061</td>\n",
       "      <td>0.018102</td>\n",
       "      <td>1.0</td>\n",
       "      <td>False</td>\n",
       "      <td>{'alpha': 1.0, 'fit_prior': False}</td>\n",
       "      <td>0.811946</td>\n",
       "      <td>0.804615</td>\n",
       "      <td>0.814570</td>\n",
       "      <td>0.811657</td>\n",
       "      <td>0.816544</td>\n",
       "      <td>0.811867</td>\n",
       "      <td>0.004045</td>\n",
       "      <td>1</td>\n",
       "    </tr>\n",
       "  </tbody>\n",
       "</table>\n",
       "</div>"
      ],
      "text/plain": [
       "   mean_fit_time  std_fit_time  mean_score_time  std_score_time param_alpha  \\\n",
       "0      22.145102      0.762179         0.707188        0.040107      0.0001   \n",
       "1      21.489421      0.782026         0.698877        0.035350       0.001   \n",
       "2      22.689338      0.780062         0.746787        0.046949        0.01   \n",
       "3      21.969946      0.187508         0.717854        0.022352         0.1   \n",
       "4      21.972483      1.041963         0.706061        0.018102         1.0   \n",
       "\n",
       "  param_fit_prior                                 params  split0_test_score  \\\n",
       "0           False  {'alpha': 0.0001, 'fit_prior': False}           0.810769   \n",
       "1           False   {'alpha': 0.001, 'fit_prior': False}           0.810860   \n",
       "2           False    {'alpha': 0.01, 'fit_prior': False}           0.810950   \n",
       "3           False     {'alpha': 0.1, 'fit_prior': False}           0.811222   \n",
       "4           False     {'alpha': 1.0, 'fit_prior': False}           0.811946   \n",
       "\n",
       "   split1_test_score  split2_test_score  split3_test_score  split4_test_score  \\\n",
       "0           0.803529           0.812489           0.812834           0.816454   \n",
       "1           0.803439           0.812308           0.813105           0.816635   \n",
       "2           0.803439           0.813122           0.813105           0.816363   \n",
       "3           0.803529           0.813484           0.813286           0.816725   \n",
       "4           0.804615           0.814570           0.811657           0.816544   \n",
       "\n",
       "   mean_test_score  std_test_score  rank_test_score  \n",
       "0         0.811215        0.004265                5  \n",
       "1         0.811269        0.004353                4  \n",
       "2         0.811396        0.004338                3  \n",
       "3         0.811649        0.004426                2  \n",
       "4         0.811867        0.004045                1  "
      ]
     },
     "execution_count": 56,
     "metadata": {},
     "output_type": "execute_result"
    }
   ],
   "source": [
    "pd.DataFrame(mnb_gscv.cv_results_)"
   ]
  },
  {
   "cell_type": "markdown",
   "id": "d795f6a6",
   "metadata": {},
   "source": [
    "As we can see from the `rank_test_score` column furthest to the right, the last row was ranked #1 with `alpha = 1.0` (referring to the `params` column). The `mean_test_score` for the five validation sets was the highest at 81.187%, though the score using the other `alpha` values were very close as well (differing only in the thousandth decimal points). So we can choose any `alpha` value that we iterated through and would have got test scores in the same ballpark."
   ]
  },
  {
   "cell_type": "markdown",
   "id": "1c454e63",
   "metadata": {},
   "source": [
    "## Best Multinomial NB Model with Optimized Hyperparameter\n",
    "\n",
    "We observed that the 5-fold cross validation determined the model performing the best at an `alpha` value of 1.0. We will set `alpha=1.0` and run the model to evaluate it."
   ]
  },
  {
   "cell_type": "code",
   "execution_count": 5,
   "id": "909b9204",
   "metadata": {
    "ExecuteTime": {
     "end_time": "2021-10-06T22:59:23.632725Z",
     "start_time": "2021-10-06T22:59:23.619748Z"
    }
   },
   "outputs": [],
   "source": [
    "# Instantiating a multinomial NB object for this model with the best parameters\n",
    "mnb_gscv_best = MultinomialNB(alpha=1.0, fit_prior=False)"
   ]
  },
  {
   "cell_type": "code",
   "execution_count": 6,
   "id": "5d3aabd0",
   "metadata": {
    "ExecuteTime": {
     "end_time": "2021-10-06T23:00:30.805052Z",
     "start_time": "2021-10-06T23:00:09.907030Z"
    }
   },
   "outputs": [
    {
     "name": "stdout",
     "output_type": "stream",
     "text": [
      "Execution time: 21 seconds\n"
     ]
    }
   ],
   "source": [
    "# Importing time module\n",
    "import time\n",
    "t1 = time.perf_counter() # Track start time of running this cell\n",
    "\n",
    "# Fitting the train datasets to the best hyperparameters for this model\n",
    "mnb_gscv_best.fit(X_train, y_train);\n",
    "\n",
    "t2 = time.perf_counter() # Track end time of running this cell\n",
    "print(f\"Execution time: {round(t2-t1)} seconds\") # Show execution time"
   ]
  },
  {
   "cell_type": "markdown",
   "id": "dc893b7e",
   "metadata": {},
   "source": [
    "We can see that the multinomial NB model fits very fast, taking only 21 seconds in the local machine."
   ]
  },
  {
   "cell_type": "markdown",
   "id": "5eded63f",
   "metadata": {},
   "source": [
    "# Model Evaluation\n",
    "\n",
    "We will now evaluate how well the multinomial NB model learned from the input variables, by measuring how well it is able to predict the output values."
   ]
  },
  {
   "cell_type": "markdown",
   "id": "aa073319",
   "metadata": {},
   "source": [
    "## Accuracy Scores\n",
    "\n",
    "Accuracy is defined as the proportion of examples for which the model produces the correct output. We will calculate this measure now."
   ]
  },
  {
   "cell_type": "code",
   "execution_count": 76,
   "id": "9462a5b0",
   "metadata": {
    "ExecuteTime": {
     "end_time": "2021-10-06T03:29:16.035403Z",
     "start_time": "2021-10-06T03:28:57.066401Z"
    }
   },
   "outputs": [
    {
     "name": "stdout",
     "output_type": "stream",
     "text": [
      "Accuracy score of the Train model: 82.7541%\n",
      "Accuracy score of the Test model: 81.4799%\n"
     ]
    }
   ],
   "source": [
    "# Accuracy scores of the train and test models\n",
    "print(f\"Accuracy score of the Train model: {round(mnb_gscv_best.score(X_train, y_train)*100,4)}%\")\n",
    "print(f\"Accuracy score of the Test model: {round(mnb_gscv_best.score(X_test, y_test)*100,4)}%\")"
   ]
  },
  {
   "cell_type": "markdown",
   "id": "cb9c8e23",
   "metadata": {},
   "source": [
    "This is a great result in the sense that:\n",
    "- The accuracy scores are quite high (mid-to-high 80%s), and\n",
    "- The difference between the train and test model accuracy scores are very small (less than 2%), indicating that the model is generalizing very well.\n",
    "\n",
    "However, as discussed before, accuracy scores give a high-level, general indication. We need to go beyond accuracy scores and look into the model's confusion matrix to get a better idea of how well the model is actually performing. Although, based on the fact that the dataset is perfectly balanced between the two classes, we can expect the accuracy score to be a quite reliable measure - we can confirm this based on the next performance measures."
   ]
  },
  {
   "cell_type": "markdown",
   "id": "2c6079d4",
   "metadata": {},
   "source": [
    "## Confusion Matrix\n",
    "\n",
    "A [confusion matrix](https://machinelearningmastery.com/confusion-matrix-machine-learning/#:~:text=A%20confusion%20matrix%20is%20a%20summary%20of%20prediction%20results%20on,key%20to%20the%20confusion%20matrix.) (aka \"error matrix\") is a summary of prediction results on a classification problem. The number of correct and incorrect predictions are summarized with count values and broken down by each class.\n",
    "\n",
    "Generating the confusion matrix for the model:"
   ]
  },
  {
   "cell_type": "code",
   "execution_count": 8,
   "id": "403d8fe2",
   "metadata": {
    "ExecuteTime": {
     "end_time": "2021-10-06T23:14:16.766869Z",
     "start_time": "2021-10-06T23:14:16.635673Z"
    }
   },
   "outputs": [],
   "source": [
    "# Import confusion matrix\n",
    "from sklearn.metrics import plot_confusion_matrix, confusion_matrix"
   ]
  },
  {
   "cell_type": "code",
   "execution_count": 9,
   "id": "273e812a",
   "metadata": {
    "ExecuteTime": {
     "end_time": "2021-10-06T23:14:21.124296Z",
     "start_time": "2021-10-06T23:14:19.372397Z"
    }
   },
   "outputs": [
    {
     "data": {
      "text/html": [
       "<div>\n",
       "<style scoped>\n",
       "    .dataframe tbody tr th:only-of-type {\n",
       "        vertical-align: middle;\n",
       "    }\n",
       "\n",
       "    .dataframe tbody tr th {\n",
       "        vertical-align: top;\n",
       "    }\n",
       "\n",
       "    .dataframe thead th {\n",
       "        text-align: right;\n",
       "    }\n",
       "</style>\n",
       "<table border=\"1\" class=\"dataframe\">\n",
       "  <thead>\n",
       "    <tr style=\"text-align: right;\">\n",
       "      <th></th>\n",
       "      <th>Predicted negative (0) rating</th>\n",
       "      <th>Predicted positive (1) rating</th>\n",
       "    </tr>\n",
       "  </thead>\n",
       "  <tbody>\n",
       "    <tr>\n",
       "      <th>True negative (0) rating</th>\n",
       "      <td>5704</td>\n",
       "      <td>1142</td>\n",
       "    </tr>\n",
       "    <tr>\n",
       "      <th>True positive (1) rating</th>\n",
       "      <td>1416</td>\n",
       "      <td>5550</td>\n",
       "    </tr>\n",
       "  </tbody>\n",
       "</table>\n",
       "</div>"
      ],
      "text/plain": [
       "                          Predicted negative (0) rating  \\\n",
       "True negative (0) rating                           5704   \n",
       "True positive (1) rating                           1416   \n",
       "\n",
       "                          Predicted positive (1) rating  \n",
       "True negative (0) rating                           1142  \n",
       "True positive (1) rating                           5550  "
      ]
     },
     "metadata": {},
     "output_type": "display_data"
    }
   ],
   "source": [
    "# Generating class predictions\n",
    "y_pred = mnb_gscv_best.predict(X_test)\n",
    "\n",
    "# Creating the confusion matrix\n",
    "cf_matrix = confusion_matrix(y_test, y_pred)\n",
    "\n",
    "# Specifying confusion matrix rows and columns labels\n",
    "cf_df = pd.DataFrame(\n",
    "    cf_matrix, \n",
    "    columns=[\"Predicted negative (0) rating\", \"Predicted positive (1) rating\"],\n",
    "    index=[\"True negative (0) rating\", \"True positive (1) rating\"]\n",
    ")\n",
    "\n",
    "display(cf_df)"
   ]
  },
  {
   "cell_type": "code",
   "execution_count": 10,
   "id": "160fa307",
   "metadata": {
    "ExecuteTime": {
     "end_time": "2021-10-06T23:14:35.917757Z",
     "start_time": "2021-10-06T23:14:33.755771Z"
    }
   },
   "outputs": [
    {
     "data": {
      "image/png": "[encoded data removed]",
      "text/plain": [
       "<Figure size 432x288 with 2 Axes>"
      ]
     },
     "metadata": {
      "needs_background": "light"
     },
     "output_type": "display_data"
    }
   ],
   "source": [
    "# Specifying class labels to show in the confusion matrix axes\n",
    "classes = ['Recommended\\n(positive)', 'Not recommended\\n(negative)']\n",
    "\n",
    "# Plotting confusion matrix, setting the expected estimator, inputs and target as parameters\n",
    "## Displaying class labels on the axes\n",
    "## Setting colour map to \"Blues\" to be in line with the Steam platform colour scheme throughout the project\n",
    "## Passing values_format as '', otherwise it displays in scientific notation (e.g., \"5878\" is displayed as 5.878e3 which may be confusing for readers)\n",
    "plot_confusion_matrix(mnb_gscv_best, X_test, y_test,\n",
    "                      display_labels=classes,\n",
    "                      cmap=plt.cm.Blues,\n",
    "                      values_format = '');"
   ]
  },
  {
   "cell_type": "markdown",
   "id": "4a5c88bc",
   "metadata": {},
   "source": [
    "As we can see from the above confusion matrix:\n",
    "- **True Positive** (\"TP\") quadrant (top-left box): The model predicted 5,704 positive ratings which were truly positive ratings, i.e., 5,704 **accurate** predictions of **\"positive\"** ratings.\n",
    "\n",
    "\n",
    "- **False Negative** (\"FN\") quadrant (top-right box): The model predicted 1,142 negative ratings which were actually positive ratings, i.e., 1,142 **inaccurate** predictions of **\"negative\"** ratings.\n",
    "\n",
    "\n",
    "- **False Positive** (\"FP\") quadrant (bottom-left box): The model predicted 1,416 positive ratings which were actually negative ratings, i.e., 1,416 **inaccurate** predictions of **\"positive\"** ratings.\n",
    "\n",
    "\n",
    "- **True Negative** (\"TN\") quadrant (bottom-right box): The model predicted 5,550 negative ratings which were truly negative ratings, i.e., 5,550 **accurate** predictions of **\"negative\"** ratings.\n",
    "\n",
    "This is a better measure of the model's performance than accuracy score, as it paints a more in-depth picture of how many accurate and inaccurate predictions were made by the model. This paves the way to introducing 'Precision' and 'Recall' as performance measures."
   ]
  },
  {
   "cell_type": "markdown",
   "id": "03312574",
   "metadata": {},
   "source": [
    "## Precision\n",
    "\n",
    "**Precision** measures the proportion of positive identifications that were actually correct.\n",
    "\n",
    "In formulaic expression:\n",
    "\n",
    "$$Precision = \\frac{TP}{TP+FP}$$\n",
    "\n",
    "Now, calculating the precision for our model -"
   ]
  },
  {
   "cell_type": "code",
   "execution_count": 81,
   "id": "e02ceea8",
   "metadata": {
    "ExecuteTime": {
     "end_time": "2021-10-06T03:35:31.932817Z",
     "start_time": "2021-10-06T03:35:31.880826Z"
    }
   },
   "outputs": [
    {
     "name": "stdout",
     "output_type": "stream",
     "text": [
      "Precision: 82.93%\n"
     ]
    }
   ],
   "source": [
    "# Importing precision score module\n",
    "from sklearn.metrics import precision_score\n",
    "\n",
    "# Calculating precision score for ML Model #3-d\n",
    "print(f\"Precision: {round(precision_score(y_test, y_pred)*100, 2)}%\")"
   ]
  },
  {
   "cell_type": "markdown",
   "id": "5cfd5e0e",
   "metadata": {},
   "source": [
    "This is a great result in the sense that, of all the reviews that were predicted as positive plus the reviews that were actually positive, the model **accurately predicted the positive reviews about 83% of the time**."
   ]
  },
  {
   "cell_type": "markdown",
   "id": "2e627b35",
   "metadata": {},
   "source": [
    "## Recall\n",
    "\n",
    "**Recall** measures the proportion of actual positives that were identified correctly.\n",
    "\n",
    "In formulaic expression:\n",
    "\n",
    "$$Recall = \\frac{TP}{TP+FN}$$\n",
    "\n",
    "Now, calculating the recall for our model -"
   ]
  },
  {
   "cell_type": "code",
   "execution_count": 82,
   "id": "d339a392",
   "metadata": {
    "ExecuteTime": {
     "end_time": "2021-10-06T03:36:05.903314Z",
     "start_time": "2021-10-06T03:36:05.884345Z"
    }
   },
   "outputs": [
    {
     "name": "stdout",
     "output_type": "stream",
     "text": [
      "Recall: 79.67%\n"
     ]
    }
   ],
   "source": [
    "# Recall\n",
    "from sklearn.metrics import recall_score\n",
    "\n",
    "# Calculating recall score for ML Model #3-d\n",
    "print(f\"Recall: {round(recall_score(y_test, y_pred)*100, 2)}%\")"
   ]
  },
  {
   "cell_type": "markdown",
   "id": "aa94fa4f",
   "metadata": {},
   "source": [
    "This is also a good result. This means that of all the reviews that were actually positive, **the model accurately predicted the positive reviews about 80% of the time**.\n",
    "\n",
    "The recall score is slightly lower than the precision score. However, our project is not very sensitive to having false positives (as opposed to, say, in disease-diagnosis, where false positives can be fatal as it means that the disease would go undiagnosed and therefore untreated for some time), so this is not a big issue."
   ]
  },
  {
   "cell_type": "markdown",
   "id": "f15392a2",
   "metadata": {},
   "source": [
    "## F1-Score\n",
    "\n",
    "The F1-score is another popular accuracy measure, which balances the precision and recall measures. F1-score is the harmonic mean of the precision and recall scores, calculated as follows:\n",
    "\n",
    "$$F_1 = 2 \\cdot \\frac{precision \\cdot recall}{precision + recall}$$\n",
    "\n",
    "Now, calculating the F1-score for our model -"
   ]
  },
  {
   "cell_type": "code",
   "execution_count": 83,
   "id": "3239bd46",
   "metadata": {
    "ExecuteTime": {
     "end_time": "2021-10-06T03:36:39.660804Z",
     "start_time": "2021-10-06T03:36:39.641828Z"
    }
   },
   "outputs": [
    {
     "name": "stdout",
     "output_type": "stream",
     "text": [
      "F1 Score: 81.27%\n"
     ]
    }
   ],
   "source": [
    "# Recall\n",
    "from sklearn.metrics import f1_score\n",
    "\n",
    "# Calculating recall score for ML Model #3-d\n",
    "print(f\"F1 Score: {round(f1_score(y_test, y_pred)*100, 2)}%\")"
   ]
  },
  {
   "cell_type": "markdown",
   "id": "329915c0",
   "metadata": {},
   "source": [
    "This is another great result as portrayed by the harmonic mean (balance) of the precision and recall measures, signifying that the model accurately predicts the outcome of the review texts more than 81% of the time."
   ]
  },
  {
   "cell_type": "markdown",
   "id": "dfcea3e1",
   "metadata": {},
   "source": [
    "## ROC AUC\n",
    "\n",
    "The Receiver Operating Characteristic (ROC) curve is formed by plotting the [true positive rate (TPR)](https://www.split.io/glossary/false-positive-rate/#:~:text=The%20true%20positive%20rate%20(TPR,as%20TN%2FTN%2BFP.) against the [false positive rate (FPR)](https://www.ibm.com/support/producthub/icpdata/docs/content/SSQNUZ_latest/wsj/model/wos-quality-fpr.html). The area under the ROC curve (AUC) is an associated metric that represents, after plotting the ROC curve, the measure of the area under the curve.\n",
    "\n",
    "Now, calculating the ROC AUC score for our model -"
   ]
  },
  {
   "cell_type": "code",
   "execution_count": 84,
   "id": "e7d241d9",
   "metadata": {
    "ExecuteTime": {
     "end_time": "2021-10-06T03:37:12.332914Z",
     "start_time": "2021-10-06T03:37:12.292889Z"
    }
   },
   "outputs": [
    {
     "name": "stdout",
     "output_type": "stream",
     "text": [
      "ROC AUC Score: 81.5%\n"
     ]
    }
   ],
   "source": [
    "# Recall\n",
    "from sklearn.metrics import roc_auc_score\n",
    "\n",
    "# Calculating recall score for ML Model #3-d\n",
    "print(f\"ROC AUC Score: {round(roc_auc_score(y_test, y_pred)*100, 2)}%\")"
   ]
  },
  {
   "cell_type": "markdown",
   "id": "432c1a35",
   "metadata": {},
   "source": [
    "This score signifies that the model is capable of accurately distinguishing between the two outcome classes about 82% of the time; i.e., when a review text is passed through the model, it is able to accurately separate the positive-sentiment reviews from the negative-sentiment ones accurately about 82% of the time.\n",
    "\n",
    "Now, when plotting the curve, we find the following:"
   ]
  },
  {
   "cell_type": "code",
   "execution_count": 86,
   "id": "3d6563bb",
   "metadata": {
    "ExecuteTime": {
     "end_time": "2021-10-06T03:38:19.873109Z",
     "start_time": "2021-10-06T03:38:17.929109Z"
    }
   },
   "outputs": [
    {
     "data": {
      "image/png": "[encoded data removed]",
      "text/plain": [
       "<Figure size 432x288 with 1 Axes>"
      ]
     },
     "metadata": {
      "needs_background": "light"
     },
     "output_type": "display_data"
    }
   ],
   "source": [
    "# Importing metrics from scikit-learn library\n",
    "from sklearn import metrics\n",
    "\n",
    "# Plotting the ROC AUC curve\n",
    "\n",
    "## Calculating probability of predicting outcome variable classes and plotting the ROC AUC curve\n",
    "y_pred_probab = mnb_gscv_best.predict_proba(X_test)[::,1]\n",
    "fpr, tpr, _ = metrics.roc_curve(y_test,  y_pred_probab)\n",
    "auc = metrics.roc_auc_score(y_test, y_pred_probab)\n",
    "plt.plot(fpr, tpr, label=\"ROC curve, auc=\"+str(round(auc,4)))\n",
    "plt.legend(loc=4)\n",
    "plt.show()"
   ]
  },
  {
   "cell_type": "markdown",
   "id": "49b9675e",
   "metadata": {},
   "source": [
    "We see in the plot that the area under the curve is about 93%. This implies that, when the model is presented with two random reviews, one from the positive-review class and one from the negative-review class, it is more confident that the positive point belongs to the positive class than the negative point belonging to the positive class."
   ]
  },
  {
   "cell_type": "markdown",
   "id": "7abc35a7",
   "metadata": {},
   "source": [
    "---\n",
    "# Conclusion\n",
    "\n",
    "We can confidently conclude that this model performed fantastically as we have observed:\n",
    "- [Very high train and test accuracy scores](#Accuracy-Scores) (both over 85%)\n",
    "- [Very small difference between the train and test accuracy scores](#Accuracy-Scores) (less than 2% difference between the two scores)\n",
    "- Very high [precision](#Precision), [recall](#Recall), [F1](#F1-Score) as well as [ROC AUC scores](#ROC-AUC) (all above 85%)\n",
    "\n",
    "Statistically speaking, if we had to blindly guess the class (positive/negative) for a review, we would have been expected to be correct about 50% of the time (as the dataset's class distribution is 50/50). From this standpoint, this ML model has **added significant value by adding a substantial (more than 35%) increase in accuracy** in predicting the classes based on input values.\n",
    "\n",
    "For quick reference, the accuracy, precision, recall, and F1 scores are also summarized and tabulated below:"
   ]
  },
  {
   "cell_type": "code",
   "execution_count": 11,
   "id": "ae444029",
   "metadata": {
    "ExecuteTime": {
     "end_time": "2021-10-06T23:21:41.360153Z",
     "start_time": "2021-10-06T23:21:41.318101Z"
    }
   },
   "outputs": [
    {
     "name": "stdout",
     "output_type": "stream",
     "text": [
      "[[5704 1142]\n",
      " [1416 5550]]\n",
      "              precision    recall  f1-score   support\n",
      "\n",
      "           0       0.80      0.83      0.82      6846\n",
      "           1       0.83      0.80      0.81      6966\n",
      "\n",
      "    accuracy                           0.81     13812\n",
      "   macro avg       0.82      0.81      0.81     13812\n",
      "weighted avg       0.82      0.81      0.81     13812\n",
      "\n",
      "0.8147987257457283\n"
     ]
    }
   ],
   "source": [
    "from sklearn.metrics import classification_report, confusion_matrix, accuracy_score\n",
    "\n",
    "print(confusion_matrix(y_test,y_pred))\n",
    "print(classification_report(y_test,y_pred))\n",
    "print(accuracy_score(y_test, y_pred))"
   ]
  },
  {
   "cell_type": "code",
   "execution_count": 12,
   "id": "217e4ce9",
   "metadata": {
    "ExecuteTime": {
     "end_time": "2021-10-06T23:22:03.636895Z",
     "start_time": "2021-10-06T23:22:03.618943Z"
    }
   },
   "outputs": [],
   "source": [
    "# Saving the best model locally for retrieval in later part of the project as needed\n",
    "\n",
    "## Importing pickle\n",
    "import pickle\n",
    "\n",
    "## Saving the model locally\n",
    "pickle.dump(mnb_gscv_best, open('model3_mnb_final.sav', 'wb'))"
   ]
  }
 ],
 "metadata": {
  "hide_input": false,
  "kernelspec": {
   "display_name": "Python 3",
   "language": "python",
   "name": "python3"
  },
  "language_info": {
   "codemirror_mode": {
    "name": "ipython",
    "version": 3
   },
   "file_extension": ".py",
   "mimetype": "text/x-python",
   "name": "python",
   "nbconvert_exporter": "python",
   "pygments_lexer": "ipython3",
   "version": "3.8.8"
  },
  "toc": {
   "base_numbering": 1,
   "nav_menu": {},
   "number_sections": true,
   "sideBar": true,
   "skip_h1_title": false,
   "title_cell": "Table of Contents",
   "title_sidebar": "Contents",
   "toc_cell": false,
   "toc_position": {
    "height": "calc(100% - 180px)",
    "left": "10px",
    "top": "150px",
    "width": "362px"
   },
   "toc_section_display": true,
   "toc_window_display": true
  }
 },
 "nbformat": 4,
 "nbformat_minor": 5
}
