{
 "cells": [
  {
   "attachments": {},
   "cell_type": "markdown",
   "id": "34963c06",
   "metadata": {},
   "source": [
    "<div id=\"container\" style=\"position:relative;\">\n",
    "<div style=\"float:left\">\n",
    "\n",
    "***Kazi Shahid***\n",
    "\n",
    "***BrainStation Data Science Diploma Candidate***\n",
    "    \n",
    "***Capstone Project***\n",
    "\n",
    "=============================================================\n",
    "\n",
    "***Project SteamBuzz: Will Our Game Create a Buzz in the Steam community?***\n",
    "\n",
    "***Part 1: Introduction & Project Overview***\n",
    "</div>\n",
    "<div style=\"position:relative; float:right\"><img style=\"height:100px\" src =\"https://i.ibb.co/mcvpL4Z/Steam-Buzz-logo.png\" />\n",
    "</div>\n",
    "</div>"
   ]
  },
  {
   "cell_type": "markdown",
   "id": "f4d2a906",
   "metadata": {},
   "source": [
    "---\n",
    "# Introduction\n",
    "\n",
    "Video games industry is a mammoth-sized industry, with its [global market size valued at 151.06 billion in 2019 and expected to grow at about 13% from 2020 to 2027](https://www.grandviewresearch.com/industry-analysis/video-game-market#:~:text=The%20global%20video%20game%20market,key%20factors%20driving%20the%20growth.). Some games see the peak of success, many do not. However, considerable time, effort, and monetary resources get invested in developing these games. As a developer of strategy video games, it is of utmost interest to us to be able to predict how our game will fare in the market. It is difficult to reliably predict how much revenues we will be able to generate from it, given it is yet to be launched in the market, and video games are difficult to come up with exact or very close comparable past sets that we can use to crunch numbers and predict market performance (and in most cases the numbers are not disclosed either). However, one wealth of information that is out there is the actual gamers sentiments expressed in the form of reviews. This is something we can get hold of, and see if we can construct a reliable model to help us predict gamers' sentiments towards our game that is yet to publish."
   ]
  },
  {
   "cell_type": "markdown",
   "id": "6bbd4ebe",
   "metadata": {},
   "source": [
    "---\n",
    "# Business Problem\n",
    "\n",
    "As alluded to above, our business problem, as developers of strategy video games, is to reliably predict how our yet-to-be-published game will perform in the market. Of course, one way to identify it is to actually launch it and monitor the gamer community's reactions towards it, but if it has already drawn severe criticism, it may be too late to sense the negative sentiment and get back to the drawing board, make adjustments, and re-launch an updated version in the market where its image has already been damaged.\n",
    "\n",
    "With the above limitations, our best bet is to collate gamers' sentiments in our sub-industry (i.e., the strategy video games space), try to draw comparisons (e.g., in terms of gameplay features and experience) between our game and similar games, with a view to drawing parallels in reaction and thereby predicting reactions to our game that is yet to be published.\n",
    "\n",
    "Our specific business problem, therefore, is to **predict whether our yet-to-be-published-game will draw a positive reaction (hence the \"buzz\" in title) in the market**.\n",
    "\n",
    "Considering that we are essentially trying to analyze and predict gamers' sentiments within the strategy video games space, this becomes a **Natural Language Processing (NLP)** matter. NLP, as it is defined, is the field concerned with the ability of a computer to understand, analyze, manipulate, and potentially generate human language. This covers a range of topic, including:\n",
    "1. Sentiment Analysis\n",
    "2. Topic Modelling\n",
    "3. Text Classification\n",
    "4. Sentence Segmentation or Parts of Speech (\"POS\") Tagging\n",
    "\n",
    "We are focusing on the first key topic - Sentiment Analysis, and attempting to augment it further to draw valuable insights that will help us predict our game's success in the market."
   ]
  },
  {
   "cell_type": "markdown",
   "id": "1b870560",
   "metadata": {},
   "source": [
    "---\n",
    "# Goal of the Project\n",
    "\n",
    "With the target of solving the business problem stated above, our goal for this project is to find and analyze reliable source of information that would help us predict gamers' sentiment.\n",
    "\n",
    "A wealth of information exists in the form of gamers' reviews (millions of them) on a long-standing and very-popular video games' digital distribution platform named **Steam**, created and maintained by Valve Corporation. We will attempt to:\n",
    "- Acquire robust datasets containing preferably millions of reviews of strategy games (if not available, then expand the scope of the datasets slightly)\n",
    "\n",
    "\n",
    "- Explore and analyze the reviews\n",
    "\n",
    "\n",
    "- Perform machine learning modelling on the reviews in order to efficiently and reliably create model(s) that will help us understand the underlying patterns and make predictions"
   ]
  },
  {
   "cell_type": "markdown",
   "id": "7e92c432",
   "metadata": {},
   "source": [
    "---\n",
    "# Research Questions\n",
    "\n",
    "In the context of our business problem, and to achieve our goal of the project, we have formed the following research questions:\n",
    "- Can we explore and analyze gamers' sentiments towards strategy games?\n",
    "- Can we use machines to process, analyze, and model the gamers' sentiments towards various strategy games?\n",
    "- Can we use the model(s) developed above to predict gamers' sentiments towards our game that we intend to publish soon?"
   ]
  },
  {
   "cell_type": "markdown",
   "id": "fedc2030",
   "metadata": {},
   "source": [
    "---\n",
    "# Tools Used in the Study\n",
    "\n",
    "We used a range of tools in the study, the key ones being:\n",
    "\n",
    "- **Python**, an interpreted high-level general-purpose programming language\n",
    "- **Jupyter Notebook**, an server-client application that allows editing and running notebook documents via a web browser and allows us to employ the Python language\n",
    "- **NLTK** (short for Natural Language Toolkit), a leading platform for building Python programs to work with human language data\n",
    "- **scikit-learn**, a free software machine learning library for the Python programming language\n",
    "- **Gensim**, an open-source library for unsupervised topic modeling and natural language processing, using modern statistical machine learning"
   ]
  },
  {
   "cell_type": "markdown",
   "id": "8595dbaa",
   "metadata": {},
   "source": [
    "With this, we will proceed to the next part of this project - identifying and acquiring some reliable and robust datasets that we can use for our project, and perform any augmentation to it for further exploration and analyses."
   ]
  }
 ],
 "metadata": {
  "hide_input": false,
  "kernelspec": {
   "display_name": "Python 3",
   "language": "python",
   "name": "python3"
  },
  "language_info": {
   "codemirror_mode": {
    "name": "ipython",
    "version": 3
   },
   "file_extension": ".py",
   "mimetype": "text/x-python",
   "name": "python",
   "nbconvert_exporter": "python",
   "pygments_lexer": "ipython3",
   "version": "3.8.8"
  },
  "toc": {
   "base_numbering": 1,
   "nav_menu": {},
   "number_sections": true,
   "sideBar": true,
   "skip_h1_title": false,
   "title_cell": "Table of Contents",
   "title_sidebar": "Contents",
   "toc_cell": false,
   "toc_position": {},
   "toc_section_display": true,
   "toc_window_display": true
  }
 },
 "nbformat": 4,
 "nbformat_minor": 5
}
