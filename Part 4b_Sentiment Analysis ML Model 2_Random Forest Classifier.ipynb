{
 "cells": [
  {
   "cell_type": "markdown",
   "id": "dc660767",
   "metadata": {
    "id": "dc660767"
   },
   "source": [
    "<div id=\"container\" style=\"position:relative;\">\n",
    "<div style=\"float:left\">\n",
    "\n",
    "***Kazi Shahid***\n",
    "\n",
    "***BrainStation Data Science Diploma Candidate***\n",
    "\n",
    "=============================================================\n",
    "\n",
    "***Project SteamBuzz: Will Our Game Create a Buzz in the Steam community?***\n",
    "    \n",
    "***Part 4 (b): Sentiment Analysis ML Model 2 - Random Forest Classifier***\n",
    "</div>\n",
    "<div style=\"position:relative; float:right\"><img style=\"height:100px\" src =\"https://i.ibb.co/mcvpL4Z/Steam-Buzz-logo.png\" />\n",
    "</div>\n",
    "</div>"
   ]
  },
  {
   "cell_type": "markdown",
   "id": "b73ddd67",
   "metadata": {
    "id": "b73ddd67"
   },
   "source": [
    "---\n",
    "# Overview\n",
    "\n",
    "In this part of the project, we will train a Random Forest (\"RF\") classifier on the data.\n",
    "\n",
    "An RF model is [defined](https://dl.acm.org/doi/10.1145/3357384.3357891) as a set of decision trees (\"DTs\"), each of which is trained using random subsets of features. It uses [bagging and feature randomness](https://askinglot.com/is-random-forest-good-for-text-classification) when building each individual tree to try to create an uncorrelated forest of trees whose prediction by committee is more accurate than that of any individual tree. Given an instance, the prediction by the RF is obtained via majority voting of the predictions of all the trees in the forest."
   ]
  },
  {
   "cell_type": "markdown",
   "id": "1c8a41cf",
   "metadata": {
    "id": "1c8a41cf"
   },
   "source": [
    "---\n",
    "# Process Flow\n",
    "\n",
    "The process flow for this part of the project is as follows:\n",
    "\n",
    "1. Loading the dataset as was prepared and preprocessed in Part 3 of the project\n",
    "2. Employing the classifier and optimizing its hyperparameters through Grid Search and cross validation\n",
    "3. Choosing the parameter values for which the classifier performed the best and re-employing the classifier with the optimized hyperparameters\n",
    "4. Evaluating the model using the appropriate performance measures\n",
    "6. Wrapping up with concluding remarks, summarizing the results"
   ]
  },
  {
   "cell_type": "code",
   "execution_count": 6,
   "id": "d9cdb1af",
   "metadata": {
    "ExecuteTime": {
     "end_time": "2021-10-07T00:06:40.036032Z",
     "start_time": "2021-10-07T00:06:38.827249Z"
    },
    "id": "d9cdb1af"
   },
   "outputs": [],
   "source": [
    "# Importing the necessary data analysis and visualization toolkits\n",
    "import pandas as pd\n",
    "import numpy as np\n",
    "import matplotlib.pyplot as plt\n",
    "%matplotlib inline\n",
    "import seaborn as sns\n",
    "\n",
    "# To display ALL the columns in the dataframes\n",
    "pd.options.display.max_columns=None\n",
    "\n",
    "# To display a considerable extent (first 500 characters) of the content of each column of the dataframes\n",
    "pd.set_option('display.max_colwidth', 100)\n",
    "\n",
    "# Filtering out potential warnings\n",
    "import warnings\n",
    "warnings.filterwarnings('ignore')"
   ]
  },
  {
   "cell_type": "markdown",
   "id": "50e39a0b",
   "metadata": {
    "id": "50e39a0b"
   },
   "source": [
    "---\n",
    "# Loading the Training and Test Datasets\n",
    "\n",
    "First, we load the X (features) and y (target) training and test datasets as cleaned up in Part 3 of the project, and check that their shapes to confirm that they loaded correctly."
   ]
  },
  {
   "cell_type": "code",
   "execution_count": 7,
   "id": "4b160489",
   "metadata": {
    "ExecuteTime": {
     "end_time": "2021-10-07T00:06:42.772558Z",
     "start_time": "2021-10-07T00:06:40.564054Z"
    },
    "id": "4b160489"
   },
   "outputs": [],
   "source": [
    "# Importing the X_train, X_test, y_train, and y_test datasets from the respective pickle files into Pandas DataFrame forms\n",
    "X_train = pd.read_pickle(\"data\\\\X_train.pkl\")\n",
    "X_test = pd.read_pickle(\"data\\\\X_test.pkl\")\n",
    "y_train = pd.read_pickle(\"data\\y_train.pkl\")\n",
    "y_test = pd.read_pickle(\"data\\y_test.pkl\")\n",
    "\n",
    "# Note: The destination paths above includes a duplicated backslash (\"\\\\\") rather than single (\"\\\") as otherwise it shows the below error\n",
    "# \"SyntaxError: (unicode error) 'unicodeescape' codec can't decode bytes in position 4-5: truncated \\xXX escape\"\n",
    "# This is because the \"\\x...\" (\"\\x_train\" in our case) starts an 8-character Unicode escape where digits follow the \"\\x\"\n",
    "# But in our case, digits do not follow the \"\\x...\" (\"\\x_train\" in our case), making the escape invalid and throwing an error\n",
    "# This error has been resolved based on https://stackoverflow.com/a/1347854"
   ]
  },
  {
   "cell_type": "code",
   "execution_count": 8,
   "id": "b01dc933",
   "metadata": {
    "ExecuteTime": {
     "end_time": "2021-10-07T00:06:42.788515Z",
     "start_time": "2021-10-07T00:06:42.774552Z"
    },
    "colab": {
     "base_uri": "https://localhost:8080/"
    },
    "id": "b01dc933",
    "outputId": "f9b2d6eb-dac5-4256-feb9-7f2909e835a9"
   },
   "outputs": [
    {
     "name": "stdout",
     "output_type": "stream",
     "text": [
      "Shape of X_train dataset: (55248, 7729)\n",
      "Shape of X_test dataset: (13812, 7729)\n",
      "Shape of y_train dataset: (55248,)\n",
      "Shape of y_test dataset: (13812,)\n"
     ]
    }
   ],
   "source": [
    "# Checking that the datasets loaded correctly, displaying the shapes\n",
    "## Displaying the dataframes themselves take a lot of time, hence choosing to display their shapes\n",
    "print(f\"Shape of X_train dataset: {X_train.shape}\")\n",
    "print(f\"Shape of X_test dataset: {X_test.shape}\")\n",
    "print(f\"Shape of y_train dataset: {y_train.shape}\")\n",
    "print(f\"Shape of y_test dataset: {y_test.shape}\")"
   ]
  },
  {
   "cell_type": "markdown",
   "id": "1878aab9",
   "metadata": {
    "id": "1878aab9"
   },
   "source": [
    "The shapes of the four sets match the outputs in Part 3 of the project. We can proceed with working them into our ML model in this part."
   ]
  },
  {
   "cell_type": "markdown",
   "id": "1432e299",
   "metadata": {
    "id": "1432e299"
   },
   "source": [
    "# Selection of Hyperparameters for Random Forest Classifier\n",
    "\n",
    "The definition and overview of RF has been discussed in Part 4 of this project. A full list and description of the many hyperparameters we can tune in a RF can be found in [its documentation](https://scikit-learn.org/stable/modules/generated/sklearn.ensemble.RandomForestClassifier.html).\n",
    "\n",
    "We will consider setting / tuning the two most impactful and important hyperparameters for a RF, as discussed below.\n",
    "\n",
    "\n",
    "## Maximum Depth of Trees (`max_depth` Parameter)\n",
    "\n",
    "`max_depth` represents the depth of each tree in the forest. The higher the `max_depth` value, the deeper goes the tree, the more splits it has, and the more information it captures about the data. If we go too deep however, the model starts to overfit to the training data.\n",
    "\n",
    "Its default value is `None`, which means that its DTs will keep growing until some loss criteria are minimized.\n",
    "\n",
    "We will iterate through a range of `max_depth` value: `max_depth = 10, 30, 50, 100`.\n",
    "\n",
    "\n",
    "## Number of Estimators (`n_estimators` Parameter)\n",
    "\n",
    "The `n_estimators` hyperparameter sets the number of DTs that will be built within the RF. Its default value is `10`, i.e., the RF will build 10 DTs of infinite depth, and the final prediction will be determined based on these 10 DTs' votes. We will iterate through a range of `n_estimators` value: `n_estimators = 10, 50, 100, and 150`."
   ]
  },
  {
   "cell_type": "markdown",
   "id": "9427cd78",
   "metadata": {
    "id": "9427cd78"
   },
   "source": [
    "# Employing RF Classifier\n",
    "\n",
    "We start by instantiating a RF classifier object for our modelling. Then we will set up the function to iterate through the two hyperparameters chosen for this model in line with our [hyperparameter selection section above](#Selection-of-Hyperparameters-for-Random-Forest-Classifier).\n",
    "\n",
    "\n",
    "## Instantiating a RF Classifier Object\n",
    "\n",
    "We start by instantiating a RF classifier object for our modelling. Then we will set up the function to iterate through the two hyperparameters chosen for this model in line with our [hyperparameter selection section above](#Selection-of-Hyperparameters-for-Random-Forest-Classifier)."
   ]
  },
  {
   "cell_type": "code",
   "execution_count": 19,
   "id": "0296392d",
   "metadata": {
    "ExecuteTime": {
     "end_time": "2021-10-07T00:08:14.152066Z",
     "start_time": "2021-10-07T00:08:13.716366Z"
    },
    "id": "0296392d"
   },
   "outputs": [],
   "source": [
    "# Importing Random Forest classifier from scikit-learn library's ensemble module\n",
    "from sklearn.ensemble import RandomForestClassifier\n",
    "\n",
    "# Instantiating a Random Forest classifier object for our modelling (not passing any parameters yet as we will set them and iterate through later)\n",
    "rfc = RandomForestClassifier()"
   ]
  },
  {
   "cell_type": "markdown",
   "id": "17c598dd",
   "metadata": {
    "id": "17c598dd"
   },
   "source": [
    "## Hyperparameter Setup\n",
    "\n",
    "We are defining the hyperparameters to optimize for our RF classifier, which are the `max_depth` and `n_estimators`. We will take a range of values to iterate through as discussed in the [hyperparameter selection section above](#Selection-of-Hyperparameters-for-Random-Forest-Classifier) and set them as such."
   ]
  },
  {
   "cell_type": "code",
   "execution_count": 16,
   "id": "4ed3f286",
   "metadata": {
    "ExecuteTime": {
     "end_time": "2021-10-07T00:08:04.332226Z",
     "start_time": "2021-10-07T00:08:04.315284Z"
    }
   },
   "outputs": [],
   "source": [
    "# Creating a dictionary for the hyperparameters to iterate through and optimize\n",
    "parameters = {'n_estimators': [10, 50, 100, 150],\n",
    "                   'max_depth': [10, 30, 50, 100, None]}"
   ]
  },
  {
   "cell_type": "markdown",
   "id": "7390ff2f",
   "metadata": {},
   "source": [
    "## GridSearchCV Setup\n",
    "\n",
    "Now we will set up the `GridSearchCV` with the appropriate values."
   ]
  },
  {
   "cell_type": "code",
   "execution_count": 17,
   "id": "dfef907d",
   "metadata": {
    "ExecuteTime": {
     "end_time": "2021-10-07T00:08:06.758046Z",
     "start_time": "2021-10-07T00:08:06.691117Z"
    },
    "id": "dfef907d"
   },
   "outputs": [],
   "source": [
    "# Importing GridSearchCV from scikit-learn library's model_selection module\n",
    "from sklearn.model_selection import GridSearchCV"
   ]
  },
  {
   "cell_type": "code",
   "execution_count": 89,
   "id": "9815edeb",
   "metadata": {
    "ExecuteTime": {
     "end_time": "2021-10-05T02:42:51.230887Z",
     "start_time": "2021-10-05T02:42:51.213932Z"
    },
    "id": "9815edeb"
   },
   "outputs": [],
   "source": [
    "# Creating a RF classifier object for GridSearchCV\n",
    "## Asking the GridSearchCV to iterate through the parameters values we set above\n",
    "## Setting the cross validation fold to 3\n",
    "rfc_gscv = GridSearchCV(rfc, parameters, cv=5)"
   ]
  },
  {
   "cell_type": "markdown",
   "id": "65a77fd2",
   "metadata": {},
   "source": [
    "## Hyperparameter Optimization\n",
    "\n",
    "Now we will optimize the hyperparameters by iterating through the parameter values, testing via cross validation, and checking the results with which the classifier performed the best."
   ]
  },
  {
   "cell_type": "code",
   "execution_count": 20,
   "id": "aKJ9HphicoRt",
   "metadata": {
    "ExecuteTime": {
     "end_time": "2021-10-07T00:08:15.942284Z",
     "start_time": "2021-10-07T00:08:15.924333Z"
    },
    "id": "aKJ9HphicoRt"
   },
   "outputs": [],
   "source": [
    "# Creating a dictionary for the hyperparameters to iterate through and optimize\n",
    "parameters = {'n_estimators': [10, 50, 100, 150],\n",
    "                   'max_depth': [10, 30, 50, 100, None]}\n",
    "\n",
    "# Creating a RF classifier object for GridSearchCV\n",
    "## Asking the GridSearchCV to iterate through the parameters values we set above\n",
    "## Setting the cross validation fold to 3\n",
    "rfc_gscv = GridSearchCV(rfc, parameters, cv=5)"
   ]
  },
  {
   "cell_type": "code",
   "execution_count": 92,
   "id": "-c1wj4VbcoPL",
   "metadata": {
    "colab": {
     "base_uri": "https://localhost:8080/"
    },
    "id": "-c1wj4VbcoPL",
    "outputId": "098c3314-1daf-4eb4-89ec-e43cfe1034ac"
   },
   "outputs": [
    {
     "name": "stdout",
     "output_type": "stream",
     "text": [
      "Execution time: 11679 seconds\n"
     ]
    }
   ],
   "source": [
    "# Importing time module\n",
    "import time\n",
    "t1 = time.perf_counter() # Track start time of running this cell\n",
    "\n",
    "# Fitting the RF classifier object to train data\n",
    "rfc_gscv.fit(X_train, y_train)\n",
    "t2 = time.perf_counter() # Track end time of running this cell\n",
    "print(f\"Execution time: {round(t2-t1)} seconds\") # Show execution time\n"
   ]
  },
  {
   "cell_type": "markdown",
   "id": "8fab29dd",
   "metadata": {},
   "source": [
    "We see that the model performed its best with the below hyperparameter values:"
   ]
  },
  {
   "cell_type": "code",
   "execution_count": 94,
   "id": "jhsfz_zSz0rm",
   "metadata": {
    "colab": {
     "base_uri": "https://localhost:8080/"
    },
    "id": "jhsfz_zSz0rm",
    "outputId": "480e4f0b-d8b2-43ed-cd4e-48211b543c55"
   },
   "outputs": [
    {
     "data": {
      "text/plain": [
       "{'max_depth': None, 'n_estimators': 150}"
      ]
     },
     "execution_count": 94,
     "metadata": {},
     "output_type": "execute_result"
    }
   ],
   "source": [
    "rfc_gscv.best_params_"
   ]
  },
  {
   "cell_type": "markdown",
   "id": "d4cf2def",
   "metadata": {},
   "source": [
    "Looking at the `GridSearchCV` results in further detail:"
   ]
  },
  {
   "cell_type": "code",
   "execution_count": 93,
   "id": "FaO9FMGTznt6",
   "metadata": {
    "colab": {
     "base_uri": "https://localhost:8080/",
     "height": 1000
    },
    "id": "FaO9FMGTznt6",
    "outputId": "7f7fab6c-79d7-42d6-8364-5b665d3bcbf2"
   },
   "outputs": [
    {
     "data": {
      "text/html": [
       "<div>\n",
       "<style scoped>\n",
       "    .dataframe tbody tr th:only-of-type {\n",
       "        vertical-align: middle;\n",
       "    }\n",
       "\n",
       "    .dataframe tbody tr th {\n",
       "        vertical-align: top;\n",
       "    }\n",
       "\n",
       "    .dataframe thead th {\n",
       "        text-align: right;\n",
       "    }\n",
       "</style>\n",
       "<table border=\"1\" class=\"dataframe\">\n",
       "  <thead>\n",
       "    <tr style=\"text-align: right;\">\n",
       "      <th></th>\n",
       "      <th>mean_fit_time</th>\n",
       "      <th>std_fit_time</th>\n",
       "      <th>mean_score_time</th>\n",
       "      <th>std_score_time</th>\n",
       "      <th>param_max_depth</th>\n",
       "      <th>param_n_estimators</th>\n",
       "      <th>params</th>\n",
       "      <th>split0_test_score</th>\n",
       "      <th>split1_test_score</th>\n",
       "      <th>split2_test_score</th>\n",
       "      <th>split3_test_score</th>\n",
       "      <th>split4_test_score</th>\n",
       "      <th>mean_test_score</th>\n",
       "      <th>std_test_score</th>\n",
       "      <th>rank_test_score</th>\n",
       "    </tr>\n",
       "  </thead>\n",
       "  <tbody>\n",
       "    <tr>\n",
       "      <th>0</th>\n",
       "      <td>20.426486</td>\n",
       "      <td>2.888246</td>\n",
       "      <td>0.778467</td>\n",
       "      <td>0.445388</td>\n",
       "      <td>10</td>\n",
       "      <td>10</td>\n",
       "      <td>{'max_depth': 10, 'n_estimators': 10}</td>\n",
       "      <td>0.721991</td>\n",
       "      <td>0.703167</td>\n",
       "      <td>0.706425</td>\n",
       "      <td>0.693275</td>\n",
       "      <td>0.698434</td>\n",
       "      <td>0.704659</td>\n",
       "      <td>0.009737</td>\n",
       "      <td>20</td>\n",
       "    </tr>\n",
       "    <tr>\n",
       "      <th>1</th>\n",
       "      <td>25.464876</td>\n",
       "      <td>0.125683</td>\n",
       "      <td>0.617728</td>\n",
       "      <td>0.008729</td>\n",
       "      <td>10</td>\n",
       "      <td>50</td>\n",
       "      <td>{'max_depth': 10, 'n_estimators': 50}</td>\n",
       "      <td>0.733122</td>\n",
       "      <td>0.726244</td>\n",
       "      <td>0.733756</td>\n",
       "      <td>0.726220</td>\n",
       "      <td>0.716354</td>\n",
       "      <td>0.727139</td>\n",
       "      <td>0.006285</td>\n",
       "      <td>19</td>\n",
       "    </tr>\n",
       "    <tr>\n",
       "      <th>2</th>\n",
       "      <td>33.966691</td>\n",
       "      <td>0.164997</td>\n",
       "      <td>0.683162</td>\n",
       "      <td>0.010510</td>\n",
       "      <td>10</td>\n",
       "      <td>100</td>\n",
       "      <td>{'max_depth': 10, 'n_estimators': 100}</td>\n",
       "      <td>0.726606</td>\n",
       "      <td>0.730769</td>\n",
       "      <td>0.732127</td>\n",
       "      <td>0.724590</td>\n",
       "      <td>0.737352</td>\n",
       "      <td>0.730289</td>\n",
       "      <td>0.004462</td>\n",
       "      <td>18</td>\n",
       "    </tr>\n",
       "    <tr>\n",
       "      <th>3</th>\n",
       "      <td>42.579338</td>\n",
       "      <td>0.126178</td>\n",
       "      <td>0.752224</td>\n",
       "      <td>0.011187</td>\n",
       "      <td>10</td>\n",
       "      <td>150</td>\n",
       "      <td>{'max_depth': 10, 'n_estimators': 150}</td>\n",
       "      <td>0.735566</td>\n",
       "      <td>0.732398</td>\n",
       "      <td>0.732670</td>\n",
       "      <td>0.728211</td>\n",
       "      <td>0.734094</td>\n",
       "      <td>0.732588</td>\n",
       "      <td>0.002463</td>\n",
       "      <td>17</td>\n",
       "    </tr>\n",
       "    <tr>\n",
       "      <th>4</th>\n",
       "      <td>22.935058</td>\n",
       "      <td>0.149800</td>\n",
       "      <td>0.575928</td>\n",
       "      <td>0.005808</td>\n",
       "      <td>30</td>\n",
       "      <td>10</td>\n",
       "      <td>{'max_depth': 30, 'n_estimators': 10}</td>\n",
       "      <td>0.756923</td>\n",
       "      <td>0.752670</td>\n",
       "      <td>0.748597</td>\n",
       "      <td>0.753100</td>\n",
       "      <td>0.754910</td>\n",
       "      <td>0.753240</td>\n",
       "      <td>0.002766</td>\n",
       "      <td>16</td>\n",
       "    </tr>\n",
       "    <tr>\n",
       "      <th>5</th>\n",
       "      <td>48.387241</td>\n",
       "      <td>0.181735</td>\n",
       "      <td>0.743478</td>\n",
       "      <td>0.008698</td>\n",
       "      <td>30</td>\n",
       "      <td>50</td>\n",
       "      <td>{'max_depth': 30, 'n_estimators': 50}</td>\n",
       "      <td>0.785249</td>\n",
       "      <td>0.777557</td>\n",
       "      <td>0.782715</td>\n",
       "      <td>0.780433</td>\n",
       "      <td>0.789664</td>\n",
       "      <td>0.783123</td>\n",
       "      <td>0.004140</td>\n",
       "      <td>14</td>\n",
       "    </tr>\n",
       "    <tr>\n",
       "      <th>6</th>\n",
       "      <td>79.249939</td>\n",
       "      <td>0.383616</td>\n",
       "      <td>0.941049</td>\n",
       "      <td>0.014511</td>\n",
       "      <td>30</td>\n",
       "      <td>100</td>\n",
       "      <td>{'max_depth': 30, 'n_estimators': 100}</td>\n",
       "      <td>0.789231</td>\n",
       "      <td>0.783982</td>\n",
       "      <td>0.792941</td>\n",
       "      <td>0.785772</td>\n",
       "      <td>0.791203</td>\n",
       "      <td>0.788626</td>\n",
       "      <td>0.003327</td>\n",
       "      <td>10</td>\n",
       "    </tr>\n",
       "    <tr>\n",
       "      <th>7</th>\n",
       "      <td>110.930246</td>\n",
       "      <td>0.759688</td>\n",
       "      <td>1.140492</td>\n",
       "      <td>0.002004</td>\n",
       "      <td>30</td>\n",
       "      <td>150</td>\n",
       "      <td>{'max_depth': 30, 'n_estimators': 150}</td>\n",
       "      <td>0.790226</td>\n",
       "      <td>0.780995</td>\n",
       "      <td>0.793937</td>\n",
       "      <td>0.782695</td>\n",
       "      <td>0.794461</td>\n",
       "      <td>0.788463</td>\n",
       "      <td>0.005623</td>\n",
       "      <td>11</td>\n",
       "    </tr>\n",
       "    <tr>\n",
       "      <th>8</th>\n",
       "      <td>27.510008</td>\n",
       "      <td>0.162551</td>\n",
       "      <td>0.606360</td>\n",
       "      <td>0.011770</td>\n",
       "      <td>50</td>\n",
       "      <td>10</td>\n",
       "      <td>{'max_depth': 50, 'n_estimators': 10}</td>\n",
       "      <td>0.772670</td>\n",
       "      <td>0.764525</td>\n",
       "      <td>0.776471</td>\n",
       "      <td>0.770115</td>\n",
       "      <td>0.777174</td>\n",
       "      <td>0.772191</td>\n",
       "      <td>0.004614</td>\n",
       "      <td>15</td>\n",
       "    </tr>\n",
       "    <tr>\n",
       "      <th>9</th>\n",
       "      <td>70.581886</td>\n",
       "      <td>0.771900</td>\n",
       "      <td>0.863824</td>\n",
       "      <td>0.013907</td>\n",
       "      <td>50</td>\n",
       "      <td>50</td>\n",
       "      <td>{'max_depth': 50, 'n_estimators': 50}</td>\n",
       "      <td>0.804253</td>\n",
       "      <td>0.796471</td>\n",
       "      <td>0.804977</td>\n",
       "      <td>0.797448</td>\n",
       "      <td>0.806317</td>\n",
       "      <td>0.801893</td>\n",
       "      <td>0.004094</td>\n",
       "      <td>9</td>\n",
       "    </tr>\n",
       "    <tr>\n",
       "      <th>10</th>\n",
       "      <td>124.942850</td>\n",
       "      <td>1.558635</td>\n",
       "      <td>1.190493</td>\n",
       "      <td>0.014731</td>\n",
       "      <td>50</td>\n",
       "      <td>100</td>\n",
       "      <td>{'max_depth': 50, 'n_estimators': 100}</td>\n",
       "      <td>0.808054</td>\n",
       "      <td>0.797828</td>\n",
       "      <td>0.809955</td>\n",
       "      <td>0.802878</td>\n",
       "      <td>0.813829</td>\n",
       "      <td>0.806509</td>\n",
       "      <td>0.005593</td>\n",
       "      <td>8</td>\n",
       "    </tr>\n",
       "    <tr>\n",
       "      <th>11</th>\n",
       "      <td>178.347110</td>\n",
       "      <td>0.539009</td>\n",
       "      <td>1.496283</td>\n",
       "      <td>0.014380</td>\n",
       "      <td>50</td>\n",
       "      <td>150</td>\n",
       "      <td>{'max_depth': 50, 'n_estimators': 150}</td>\n",
       "      <td>0.807149</td>\n",
       "      <td>0.800633</td>\n",
       "      <td>0.812398</td>\n",
       "      <td>0.805412</td>\n",
       "      <td>0.811838</td>\n",
       "      <td>0.807486</td>\n",
       "      <td>0.004346</td>\n",
       "      <td>7</td>\n",
       "    </tr>\n",
       "    <tr>\n",
       "      <th>12</th>\n",
       "      <td>35.000841</td>\n",
       "      <td>0.213045</td>\n",
       "      <td>0.647961</td>\n",
       "      <td>0.012755</td>\n",
       "      <td>100</td>\n",
       "      <td>10</td>\n",
       "      <td>{'max_depth': 100, 'n_estimators': 10}</td>\n",
       "      <td>0.783982</td>\n",
       "      <td>0.783710</td>\n",
       "      <td>0.790498</td>\n",
       "      <td>0.784324</td>\n",
       "      <td>0.789755</td>\n",
       "      <td>0.786454</td>\n",
       "      <td>0.003014</td>\n",
       "      <td>12</td>\n",
       "    </tr>\n",
       "    <tr>\n",
       "      <th>13</th>\n",
       "      <td>107.170160</td>\n",
       "      <td>0.200160</td>\n",
       "      <td>1.063901</td>\n",
       "      <td>0.009589</td>\n",
       "      <td>100</td>\n",
       "      <td>50</td>\n",
       "      <td>{'max_depth': 100, 'n_estimators': 50}</td>\n",
       "      <td>0.816742</td>\n",
       "      <td>0.807511</td>\n",
       "      <td>0.821448</td>\n",
       "      <td>0.812200</td>\n",
       "      <td>0.819531</td>\n",
       "      <td>0.815487</td>\n",
       "      <td>0.005057</td>\n",
       "      <td>6</td>\n",
       "    </tr>\n",
       "    <tr>\n",
       "      <th>14</th>\n",
       "      <td>198.110976</td>\n",
       "      <td>0.527496</td>\n",
       "      <td>1.567095</td>\n",
       "      <td>0.016114</td>\n",
       "      <td>100</td>\n",
       "      <td>100</td>\n",
       "      <td>{'max_depth': 100, 'n_estimators': 100}</td>\n",
       "      <td>0.819005</td>\n",
       "      <td>0.816471</td>\n",
       "      <td>0.827421</td>\n",
       "      <td>0.814463</td>\n",
       "      <td>0.823242</td>\n",
       "      <td>0.820120</td>\n",
       "      <td>0.004682</td>\n",
       "      <td>3</td>\n",
       "    </tr>\n",
       "    <tr>\n",
       "      <th>15</th>\n",
       "      <td>285.609728</td>\n",
       "      <td>0.776603</td>\n",
       "      <td>2.047324</td>\n",
       "      <td>0.032159</td>\n",
       "      <td>100</td>\n",
       "      <td>150</td>\n",
       "      <td>{'max_depth': 100, 'n_estimators': 150}</td>\n",
       "      <td>0.820362</td>\n",
       "      <td>0.815747</td>\n",
       "      <td>0.822081</td>\n",
       "      <td>0.816997</td>\n",
       "      <td>0.823785</td>\n",
       "      <td>0.819794</td>\n",
       "      <td>0.003023</td>\n",
       "      <td>4</td>\n",
       "    </tr>\n",
       "    <tr>\n",
       "      <th>16</th>\n",
       "      <td>40.340896</td>\n",
       "      <td>0.512256</td>\n",
       "      <td>0.690908</td>\n",
       "      <td>0.010224</td>\n",
       "      <td>None</td>\n",
       "      <td>10</td>\n",
       "      <td>{'max_depth': None, 'n_estimators': 10}</td>\n",
       "      <td>0.784706</td>\n",
       "      <td>0.783348</td>\n",
       "      <td>0.785339</td>\n",
       "      <td>0.781428</td>\n",
       "      <td>0.785863</td>\n",
       "      <td>0.784137</td>\n",
       "      <td>0.001594</td>\n",
       "      <td>13</td>\n",
       "    </tr>\n",
       "    <tr>\n",
       "      <th>17</th>\n",
       "      <td>136.193080</td>\n",
       "      <td>0.627207</td>\n",
       "      <td>1.298400</td>\n",
       "      <td>0.012265</td>\n",
       "      <td>None</td>\n",
       "      <td>50</td>\n",
       "      <td>{'max_depth': None, 'n_estimators': 50}</td>\n",
       "      <td>0.818733</td>\n",
       "      <td>0.817285</td>\n",
       "      <td>0.822805</td>\n",
       "      <td>0.813829</td>\n",
       "      <td>0.821884</td>\n",
       "      <td>0.818907</td>\n",
       "      <td>0.003241</td>\n",
       "      <td>5</td>\n",
       "    </tr>\n",
       "    <tr>\n",
       "      <th>18</th>\n",
       "      <td>255.176537</td>\n",
       "      <td>1.023092</td>\n",
       "      <td>2.052472</td>\n",
       "      <td>0.071880</td>\n",
       "      <td>None</td>\n",
       "      <td>100</td>\n",
       "      <td>{'max_depth': None, 'n_estimators': 100}</td>\n",
       "      <td>0.824163</td>\n",
       "      <td>0.819276</td>\n",
       "      <td>0.825882</td>\n",
       "      <td>0.821613</td>\n",
       "      <td>0.826681</td>\n",
       "      <td>0.823523</td>\n",
       "      <td>0.002744</td>\n",
       "      <td>2</td>\n",
       "    </tr>\n",
       "    <tr>\n",
       "      <th>19</th>\n",
       "      <td>373.037807</td>\n",
       "      <td>1.749160</td>\n",
       "      <td>2.712973</td>\n",
       "      <td>0.014615</td>\n",
       "      <td>None</td>\n",
       "      <td>150</td>\n",
       "      <td>{'max_depth': None, 'n_estimators': 150}</td>\n",
       "      <td>0.823529</td>\n",
       "      <td>0.822353</td>\n",
       "      <td>0.827421</td>\n",
       "      <td>0.821251</td>\n",
       "      <td>0.827677</td>\n",
       "      <td>0.824446</td>\n",
       "      <td>0.002635</td>\n",
       "      <td>1</td>\n",
       "    </tr>\n",
       "  </tbody>\n",
       "</table>\n",
       "</div>"
      ],
      "text/plain": [
       "    mean_fit_time  std_fit_time  mean_score_time  std_score_time  \\\n",
       "0       20.426486      2.888246         0.778467        0.445388   \n",
       "1       25.464876      0.125683         0.617728        0.008729   \n",
       "2       33.966691      0.164997         0.683162        0.010510   \n",
       "3       42.579338      0.126178         0.752224        0.011187   \n",
       "4       22.935058      0.149800         0.575928        0.005808   \n",
       "5       48.387241      0.181735         0.743478        0.008698   \n",
       "6       79.249939      0.383616         0.941049        0.014511   \n",
       "7      110.930246      0.759688         1.140492        0.002004   \n",
       "8       27.510008      0.162551         0.606360        0.011770   \n",
       "9       70.581886      0.771900         0.863824        0.013907   \n",
       "10     124.942850      1.558635         1.190493        0.014731   \n",
       "11     178.347110      0.539009         1.496283        0.014380   \n",
       "12      35.000841      0.213045         0.647961        0.012755   \n",
       "13     107.170160      0.200160         1.063901        0.009589   \n",
       "14     198.110976      0.527496         1.567095        0.016114   \n",
       "15     285.609728      0.776603         2.047324        0.032159   \n",
       "16      40.340896      0.512256         0.690908        0.010224   \n",
       "17     136.193080      0.627207         1.298400        0.012265   \n",
       "18     255.176537      1.023092         2.052472        0.071880   \n",
       "19     373.037807      1.749160         2.712973        0.014615   \n",
       "\n",
       "   param_max_depth param_n_estimators  \\\n",
       "0               10                 10   \n",
       "1               10                 50   \n",
       "2               10                100   \n",
       "3               10                150   \n",
       "4               30                 10   \n",
       "5               30                 50   \n",
       "6               30                100   \n",
       "7               30                150   \n",
       "8               50                 10   \n",
       "9               50                 50   \n",
       "10              50                100   \n",
       "11              50                150   \n",
       "12             100                 10   \n",
       "13             100                 50   \n",
       "14             100                100   \n",
       "15             100                150   \n",
       "16            None                 10   \n",
       "17            None                 50   \n",
       "18            None                100   \n",
       "19            None                150   \n",
       "\n",
       "                                      params  split0_test_score  \\\n",
       "0      {'max_depth': 10, 'n_estimators': 10}           0.721991   \n",
       "1      {'max_depth': 10, 'n_estimators': 50}           0.733122   \n",
       "2     {'max_depth': 10, 'n_estimators': 100}           0.726606   \n",
       "3     {'max_depth': 10, 'n_estimators': 150}           0.735566   \n",
       "4      {'max_depth': 30, 'n_estimators': 10}           0.756923   \n",
       "5      {'max_depth': 30, 'n_estimators': 50}           0.785249   \n",
       "6     {'max_depth': 30, 'n_estimators': 100}           0.789231   \n",
       "7     {'max_depth': 30, 'n_estimators': 150}           0.790226   \n",
       "8      {'max_depth': 50, 'n_estimators': 10}           0.772670   \n",
       "9      {'max_depth': 50, 'n_estimators': 50}           0.804253   \n",
       "10    {'max_depth': 50, 'n_estimators': 100}           0.808054   \n",
       "11    {'max_depth': 50, 'n_estimators': 150}           0.807149   \n",
       "12    {'max_depth': 100, 'n_estimators': 10}           0.783982   \n",
       "13    {'max_depth': 100, 'n_estimators': 50}           0.816742   \n",
       "14   {'max_depth': 100, 'n_estimators': 100}           0.819005   \n",
       "15   {'max_depth': 100, 'n_estimators': 150}           0.820362   \n",
       "16   {'max_depth': None, 'n_estimators': 10}           0.784706   \n",
       "17   {'max_depth': None, 'n_estimators': 50}           0.818733   \n",
       "18  {'max_depth': None, 'n_estimators': 100}           0.824163   \n",
       "19  {'max_depth': None, 'n_estimators': 150}           0.823529   \n",
       "\n",
       "    split1_test_score  split2_test_score  split3_test_score  \\\n",
       "0            0.703167           0.706425           0.693275   \n",
       "1            0.726244           0.733756           0.726220   \n",
       "2            0.730769           0.732127           0.724590   \n",
       "3            0.732398           0.732670           0.728211   \n",
       "4            0.752670           0.748597           0.753100   \n",
       "5            0.777557           0.782715           0.780433   \n",
       "6            0.783982           0.792941           0.785772   \n",
       "7            0.780995           0.793937           0.782695   \n",
       "8            0.764525           0.776471           0.770115   \n",
       "9            0.796471           0.804977           0.797448   \n",
       "10           0.797828           0.809955           0.802878   \n",
       "11           0.800633           0.812398           0.805412   \n",
       "12           0.783710           0.790498           0.784324   \n",
       "13           0.807511           0.821448           0.812200   \n",
       "14           0.816471           0.827421           0.814463   \n",
       "15           0.815747           0.822081           0.816997   \n",
       "16           0.783348           0.785339           0.781428   \n",
       "17           0.817285           0.822805           0.813829   \n",
       "18           0.819276           0.825882           0.821613   \n",
       "19           0.822353           0.827421           0.821251   \n",
       "\n",
       "    split4_test_score  mean_test_score  std_test_score  rank_test_score  \n",
       "0            0.698434         0.704659        0.009737               20  \n",
       "1            0.716354         0.727139        0.006285               19  \n",
       "2            0.737352         0.730289        0.004462               18  \n",
       "3            0.734094         0.732588        0.002463               17  \n",
       "4            0.754910         0.753240        0.002766               16  \n",
       "5            0.789664         0.783123        0.004140               14  \n",
       "6            0.791203         0.788626        0.003327               10  \n",
       "7            0.794461         0.788463        0.005623               11  \n",
       "8            0.777174         0.772191        0.004614               15  \n",
       "9            0.806317         0.801893        0.004094                9  \n",
       "10           0.813829         0.806509        0.005593                8  \n",
       "11           0.811838         0.807486        0.004346                7  \n",
       "12           0.789755         0.786454        0.003014               12  \n",
       "13           0.819531         0.815487        0.005057                6  \n",
       "14           0.823242         0.820120        0.004682                3  \n",
       "15           0.823785         0.819794        0.003023                4  \n",
       "16           0.785863         0.784137        0.001594               13  \n",
       "17           0.821884         0.818907        0.003241                5  \n",
       "18           0.826681         0.823523        0.002744                2  \n",
       "19           0.827677         0.824446        0.002635                1  "
      ]
     },
     "execution_count": 93,
     "metadata": {},
     "output_type": "execute_result"
    }
   ],
   "source": [
    "pd.DataFrame(rfc_gscv.cv_results_)"
   ]
  },
  {
   "cell_type": "markdown",
   "id": "85b132e8",
   "metadata": {},
   "source": [
    "As we can see from the `rank_test_score` column furthest to the right, the last row was ranked #1 with `max_depth = None` and `n_estimators = 100` (referring to the `params` column). The `mean_test_score` for the five validation sets was the highest at 82.445%, though the score using the other `n_estimators` values were very close as well (differing only in the hundredth decimal points). However, we know that if we set `max_depth` to `None`, the RF classifier will overfit as we are letting it go really deep, branching into so many decision rules for classification. So we should disregard this value for `max_depth`, and look at the `mean_test_score` values for the other `max_depth` values:"
   ]
  },
  {
   "cell_type": "code",
   "execution_count": 95,
   "id": "PbfzxXLQznrn",
   "metadata": {
    "colab": {
     "base_uri": "https://localhost:8080/",
     "height": 514
    },
    "id": "PbfzxXLQznrn",
    "outputId": "d4d26794-edbc-4fb1-dfac-288329e34f5c"
   },
   "outputs": [
    {
     "data": {
      "image/png": "[encoded data removed]",
      "text/plain": [
       "<Figure size 792x576 with 1 Axes>"
      ]
     },
     "metadata": {
      "needs_background": "light"
     },
     "output_type": "display_data"
    }
   ],
   "source": [
    "# Defining a function for the Gridsearch CV result plot\n",
    "## Code modified from https://stackoverflow.com/a/55766938\n",
    "\n",
    "## Defining each item of the function\n",
    "### 'cv_results' refers to our GridSearchCV instance's 'cv_results_' attribute\n",
    "### 'param_x' refers to the parameter to plot along X-axis\n",
    "### 'score_y' refers to the metric to plot along Y-axis\n",
    "### 'param_line' refers to the parameter to identify each line in the plot\n",
    "\n",
    "def plot_cv_results(cv_results, param_x, param_line, score_y='mean_test_score'):\n",
    "    cv_results = pd.DataFrame(cv_results)\n",
    "    col_x = 'param_' + param_x\n",
    "    col_z = 'param_' + param_line\n",
    "    fig, ax = plt.subplots(1, 1, figsize=(11, 8))\n",
    "    sns.pointplot(x=col_x, y=score_y, hue=col_z, data=cv_results, ci=99, n_boot=64, ax=ax)\n",
    "    ax.set_title(\"ML Model 2 (Random Forest) GridSearchCV Results\")\n",
    "    ax.set_xlabel(param_x)\n",
    "    ax.set_ylabel(score_y)\n",
    "    ax.legend(title=param_line)\n",
    "    return fig\n",
    "\n",
    "# Plotting the GridSearchCV results (scores) for this model's hyperparameter optimization\n",
    "fig = plot_cv_results(rfc_gscv.cv_results_, 'n_estimators', 'max_depth')"
   ]
  },
  {
   "cell_type": "markdown",
   "id": "84878e3e",
   "metadata": {
    "id": "LUaV37dEzno6"
   },
   "source": [
    "As we can see from the above:\n",
    "- The higher the `max_depth` value goes, the more the plot line shifts upward, signifying better `mean_test_score` sets. We get the best score at `max_depth = 100`, which is still not quite hitting the 82% accuracy score, meaning it still has not quite overfit.\n",
    "- The higher the `n_estimators`, the higher the `mean_test_score` value goes but at a diminishing rate. For `max_depth=100`, `n_estimators` hits the peak at 100, and then slightly goes down. We can choose `n_estimators=100` as the optimum value, as it will also make sense from computational efficiency perspective as well (choosing `n_estimators=150` will add 50 more DTs to the model, increasing model fitting runtime)."
   ]
  },
  {
   "cell_type": "markdown",
   "id": "1c454e63",
   "metadata": {
    "id": "1c454e63"
   },
   "source": [
    "## Best RF Classifier Model with Optimized Hyperparameter\n",
    "\n",
    "We will re-employ the model, but with the optimum hyperparameter values as discussed above: `n_estimators = 100` and `max_depth = 100`."
   ]
  },
  {
   "cell_type": "code",
   "execution_count": 21,
   "id": "7fc0fca7",
   "metadata": {
    "ExecuteTime": {
     "end_time": "2021-10-07T00:08:19.399845Z",
     "start_time": "2021-10-07T00:08:19.396881Z"
    },
    "id": "7fc0fca7"
   },
   "outputs": [],
   "source": [
    "# Instantiating a RF classifier object for this model with the best parameters\n",
    "rfc_gscv_best = RandomForestClassifier(n_estimators=100, max_depth=100)"
   ]
  },
  {
   "cell_type": "code",
   "execution_count": 22,
   "id": "909b9204",
   "metadata": {
    "ExecuteTime": {
     "end_time": "2021-10-07T00:12:07.133363Z",
     "start_time": "2021-10-07T00:08:21.164118Z"
    },
    "colab": {
     "base_uri": "https://localhost:8080/"
    },
    "id": "909b9204",
    "outputId": "06f9e35a-118b-4867-9b42-1f1ee85fd07b"
   },
   "outputs": [
    {
     "name": "stdout",
     "output_type": "stream",
     "text": [
      "Execution time: 226 seconds\n"
     ]
    }
   ],
   "source": [
    "t3 = time.perf_counter() # Track start time of running this cell\n",
    "\n",
    "# Fitting to the train datasets with the optimum hyperparameters for this model\n",
    "rfc_gscv_best.fit(X_train, y_train);\n",
    "\n",
    "t4 = time.perf_counter() # Track end time of running this cell\n",
    "print(f\"Execution time: {round(t4-t3)} seconds\") # Show execution time"
   ]
  },
  {
   "cell_type": "markdown",
   "id": "d10f322c",
   "metadata": {},
   "source": [
    "We can see that the RF model fits quite efficiently, taking only 204 seconds (about 3 and half minutes) in the local machine."
   ]
  },
  {
   "cell_type": "markdown",
   "id": "UUbvUva3p_Cr",
   "metadata": {
    "id": "UUbvUva3p_Cr"
   },
   "source": [
    "# Model Evaluation\n",
    "\n",
    "We will now evaluate how well the multinomial NB model learned from the input variables, by measuring how well it is able to predict the output values."
   ]
  },
  {
   "cell_type": "markdown",
   "id": "G86uSJyoqFVs",
   "metadata": {
    "id": "G86uSJyoqFVs"
   },
   "source": [
    "## Accuracy Scores\n",
    "\n",
    "Accuracy is defined as the proportion of examples for which the model produces the correct output. We will calculate this measure now."
   ]
  },
  {
   "cell_type": "code",
   "execution_count": 36,
   "id": "FIX6fqDnIsjZ",
   "metadata": {
    "ExecuteTime": {
     "end_time": "2021-10-07T00:15:16.372724Z",
     "start_time": "2021-10-07T00:15:10.211829Z"
    },
    "colab": {
     "base_uri": "https://localhost:8080/"
    },
    "id": "FIX6fqDnIsjZ",
    "outputId": "55c91eac-31e4-4b8c-a6a9-2868da495e94"
   },
   "outputs": [
    {
     "name": "stdout",
     "output_type": "stream",
     "text": [
      "Accuracy score of the Train model: 96.9773%\n",
      "Accuracy score of the Test model: 82.6455%\n"
     ]
    }
   ],
   "source": [
    "## Scoring the model\n",
    "print(f\"Accuracy score of the Train model: {round(rfc_gscv_best.score(X_train, y_train)*100,4)}%\")\n",
    "print(f\"Accuracy score of the Test model: {round(rfc_gscv_best.score(X_test, y_test)*100,4)}%\")"
   ]
  },
  {
   "cell_type": "markdown",
   "id": "I2aP2DqmppSh",
   "metadata": {
    "id": "I2aP2DqmppSh"
   },
   "source": [
    "This is a bit less-than-ideal result as:\n",
    "- The train accuracy score is about 97%, which is a clear indication of overfitting to the train data, and\n",
    "- The test accuracy score is good at about 83%, but the difference between the train and test model accuracy scores are quite large, indicating that the model is not generalizing as well.\n",
    "\n",
    "However, as discussed before, accuracy scores give a high-level, general indication. We need to go beyond accuracy scores and look into the model's confusion matrix to get a better idea of how well the model is actually performing. Although, based on the fact that the dataset is perfectly balanced between the two classes, we can expect the accuracy score to be a quite reliable measure - we can confirm this based on the next performance measures."
   ]
  },
  {
   "cell_type": "markdown",
   "id": "4aFiWkZSqD4A",
   "metadata": {
    "id": "4aFiWkZSqD4A"
   },
   "source": [
    "## Confusion Matrix\n",
    "\n",
    "A [confusion matrix](https://machinelearningmastery.com/confusion-matrix-machine-learning/#:~:text=A%20confusion%20matrix%20is%20a%20summary%20of%20prediction%20results%20on,key%20to%20the%20confusion%20matrix.) (aka \"error matrix\") is a summary of prediction results on a classification problem. The number of correct and incorrect predictions are summarized with count values and broken down by each class.\n",
    "\n",
    "Generating the confusion matrix for the model:"
   ]
  },
  {
   "cell_type": "code",
   "execution_count": 34,
   "id": "LuC6mOZCIshT",
   "metadata": {
    "ExecuteTime": {
     "end_time": "2021-10-07T00:14:35.117528Z",
     "start_time": "2021-10-07T00:14:35.100265Z"
    },
    "id": "LuC6mOZCIshT"
   },
   "outputs": [],
   "source": [
    "# Import confusion matrix\n",
    "from sklearn.metrics import plot_confusion_matrix, confusion_matrix"
   ]
  },
  {
   "cell_type": "code",
   "execution_count": 23,
   "id": "tdy2ZaGCsZlv",
   "metadata": {
    "ExecuteTime": {
     "end_time": "2021-10-07T00:12:09.360170Z",
     "start_time": "2021-10-07T00:12:07.135358Z"
    },
    "colab": {
     "base_uri": "https://localhost:8080/",
     "height": 111
    },
    "id": "tdy2ZaGCsZlv",
    "outputId": "f133d6cf-f8d0-4d4b-db34-311449a88536"
   },
   "outputs": [
    {
     "data": {
      "text/html": [
       "<div>\n",
       "<style scoped>\n",
       "    .dataframe tbody tr th:only-of-type {\n",
       "        vertical-align: middle;\n",
       "    }\n",
       "\n",
       "    .dataframe tbody tr th {\n",
       "        vertical-align: top;\n",
       "    }\n",
       "\n",
       "    .dataframe thead th {\n",
       "        text-align: right;\n",
       "    }\n",
       "</style>\n",
       "<table border=\"1\" class=\"dataframe\">\n",
       "  <thead>\n",
       "    <tr style=\"text-align: right;\">\n",
       "      <th></th>\n",
       "      <th>Predicted negative (0) rating</th>\n",
       "      <th>Predicted positive (1) rating</th>\n",
       "    </tr>\n",
       "  </thead>\n",
       "  <tbody>\n",
       "    <tr>\n",
       "      <th>True negative (0) rating</th>\n",
       "      <td>5770</td>\n",
       "      <td>1076</td>\n",
       "    </tr>\n",
       "    <tr>\n",
       "      <th>True positive (1) rating</th>\n",
       "      <td>1321</td>\n",
       "      <td>5645</td>\n",
       "    </tr>\n",
       "  </tbody>\n",
       "</table>\n",
       "</div>"
      ],
      "text/plain": [
       "                          Predicted negative (0) rating  \\\n",
       "True negative (0) rating                           5770   \n",
       "True positive (1) rating                           1321   \n",
       "\n",
       "                          Predicted positive (1) rating  \n",
       "True negative (0) rating                           1076  \n",
       "True positive (1) rating                           5645  "
      ]
     },
     "metadata": {},
     "output_type": "display_data"
    }
   ],
   "source": [
    "# Generating class predictions\n",
    "y_pred = rfc_gscv_best.predict(X_test)\n",
    "\n",
    "# Creating the confusion matrix\n",
    "cf_matrix = confusion_matrix(y_test, y_pred)\n",
    "\n",
    "# Specifying confusion matrix rows and columns labels\n",
    "cf_df = pd.DataFrame(\n",
    "    cf_matrix, \n",
    "    columns=[\"Predicted negative (0) rating\", \"Predicted positive (1) rating\"],\n",
    "    index=[\"True negative (0) rating\", \"True positive (1) rating\"]\n",
    ")\n",
    "\n",
    "display(cf_df)"
   ]
  },
  {
   "cell_type": "code",
   "execution_count": 35,
   "id": "9RsRVDQkscSG",
   "metadata": {
    "ExecuteTime": {
     "end_time": "2021-10-07T00:14:38.231258Z",
     "start_time": "2021-10-07T00:14:36.587893Z"
    },
    "colab": {
     "base_uri": "https://localhost:8080/",
     "height": 291
    },
    "id": "9RsRVDQkscSG",
    "outputId": "4a6bb2c9-c035-4fad-c5b3-807245aa975d"
   },
   "outputs": [
    {
     "data": {
      "image/png": "[encoded data removed]",
      "text/plain": [
       "<Figure size 432x288 with 2 Axes>"
      ]
     },
     "metadata": {
      "needs_background": "light"
     },
     "output_type": "display_data"
    }
   ],
   "source": [
    "# Specifying class labels to show in the confusion matrix axes\n",
    "classes = ['Recommended\\n(positive)', 'Not recommended\\n(negative)']\n",
    "\n",
    "# Plotting confusion matrix, setting the expected estimator, inputs and target as parameters\n",
    "## Displaying class labels on the axes\n",
    "## Setting colour map to \"Blues\" to be in line with the Steam platform colour scheme throughout the project\n",
    "## Passing values_format as '', otherwise it displays in scientific notation (e.g., \"5878\" is displayed as 5.878e3 which may be confusing for readers)\n",
    "plot_confusion_matrix(rfc_gscv_best, X_test, y_test,\n",
    "                      display_labels=classes,\n",
    "                      cmap=plt.cm.Blues,\n",
    "                      values_format = '');"
   ]
  },
  {
   "cell_type": "markdown",
   "id": "80c2a9a3",
   "metadata": {},
   "source": [
    "As we can see from the above confusion matrix:\n",
    "- **True Positive** (\"TP\") quadrant (top-left box): The model predicted 5,770 positive ratings which were truly positive ratings, i.e., 5,770 **accurate** predictions of **\"positive\"** ratings.\n",
    "\n",
    "\n",
    "- **False Negative** (\"FN\") quadrant (top-right box): The model predicted 1,076 negative ratings which were actually positive ratings, i.e., 1,076 **inaccurate** predictions of **\"negative\"** ratings.\n",
    "\n",
    "\n",
    "- **False Positive** (\"FP\") quadrant (bottom-left box): The model predicted 1,321 positive ratings which were actually negative ratings, i.e., 1,321 **inaccurate** predictions of **\"positive\"** ratings.\n",
    "\n",
    "\n",
    "- **True Negative** (\"TN\") quadrant (bottom-right box): The model predicted 5,645 negative ratings which were truly negative ratings, i.e., 5,645 **accurate** predictions of **\"negative\"** ratings.\n",
    "\n",
    "This is a better measure of the model's performance than accuracy score, as it paints a more in-depth picture of how many accurate and inaccurate predictions were made by the model. This paves the way to introducing 'Precision' and 'Recall' as performance measures."
   ]
  },
  {
   "cell_type": "markdown",
   "id": "Ays7jPwPsipz",
   "metadata": {
    "id": "Ays7jPwPsipz"
   },
   "source": [
    "## Precision\n",
    "\n",
    "**Precision** measures the proportion of positive identifications that were actually correct.\n",
    "\n",
    "In formulaic expression:\n",
    "\n",
    "$$Precision = \\frac{TP}{TP+FP}$$\n",
    "\n",
    "Now, calculating the precision for our model -"
   ]
  },
  {
   "cell_type": "code",
   "execution_count": 32,
   "id": "fFimFBqlsel2",
   "metadata": {
    "ExecuteTime": {
     "end_time": "2021-10-07T00:14:22.541224Z",
     "start_time": "2021-10-07T00:14:22.524280Z"
    },
    "colab": {
     "base_uri": "https://localhost:8080/"
    },
    "id": "fFimFBqlsel2",
    "outputId": "5b751f8d-9f84-4744-fafe-66d49bf87a3d"
   },
   "outputs": [
    {
     "name": "stdout",
     "output_type": "stream",
     "text": [
      "Precision: 83.99%\n"
     ]
    }
   ],
   "source": [
    "# Importing precision score module\n",
    "from sklearn.metrics import precision_score\n",
    "\n",
    "# Calculating precision score for ML Model #3-d\n",
    "print(f\"Precision: {round(precision_score(y_test, y_pred)*100, 2)}%\")"
   ]
  },
  {
   "cell_type": "markdown",
   "id": "240eb1bb",
   "metadata": {},
   "source": [
    "This is a quite good result in the sense that, of all the reviews that were predicted as positive plus the reviews that were actually positive, the model **accurately predicted the positive reviews about 84% of the time**."
   ]
  },
  {
   "cell_type": "markdown",
   "id": "_OrxM8zZstvH",
   "metadata": {
    "id": "_OrxM8zZstvH"
   },
   "source": [
    "## Recall\n",
    "\n",
    "**Recall** measures the proportion of actual positives that were identified correctly.\n",
    "\n",
    "In formulaic expression:\n",
    "\n",
    "$$Recall = \\frac{TP}{TP+FN}$$\n",
    "\n",
    "Now, calculating the recall for our model -"
   ]
  },
  {
   "cell_type": "code",
   "execution_count": 31,
   "id": "1GM0wu6fsqDO",
   "metadata": {
    "ExecuteTime": {
     "end_time": "2021-10-07T00:14:10.083604Z",
     "start_time": "2021-10-07T00:14:10.067647Z"
    },
    "colab": {
     "base_uri": "https://localhost:8080/"
    },
    "id": "1GM0wu6fsqDO",
    "outputId": "00573dc3-ea35-438b-a71e-0bb3d63cff99"
   },
   "outputs": [
    {
     "name": "stdout",
     "output_type": "stream",
     "text": [
      "Recall: 81.04%\n"
     ]
    }
   ],
   "source": [
    "# Recall\n",
    "from sklearn.metrics import recall_score\n",
    "\n",
    "# Calculating recall score for ML Model #3-d\n",
    "print(f\"Recall: {round(recall_score(y_test, y_pred)*100, 2)}%\")"
   ]
  },
  {
   "cell_type": "markdown",
   "id": "9533df8c",
   "metadata": {},
   "source": [
    "This is also a good result. This means that of all the reviews that were actually positive, **the model accurately predicted the positive reviews slightly more than 81% of the time**.\n",
    "\n",
    "The recall score is slightly lower than the precision score. However, our project is not very sensitive to having false positives (as opposed to, say, in disease-diagnosis, where false positives can be fatal as it means that the disease would go undiagnosed and therefore untreated for some time), so this is not a big issue."
   ]
  },
  {
   "cell_type": "markdown",
   "id": "-YHX8v5msyl3",
   "metadata": {
    "id": "-YHX8v5msyl3"
   },
   "source": [
    "## F1-Score\n",
    "\n",
    "The F1-score is another popular accuracy measure, which balances the precision and recall measures. F1-score is the harmonic mean of the precision and recall scores, calculated as follows:\n",
    "\n",
    "$$F_1 = 2 \\cdot \\frac{precision \\cdot recall}{precision + recall}$$\n",
    "\n",
    "Now, calculating the F1-score for our model -"
   ]
  },
  {
   "cell_type": "code",
   "execution_count": 30,
   "id": "D8RwRTjLsw52",
   "metadata": {
    "ExecuteTime": {
     "end_time": "2021-10-07T00:14:06.076318Z",
     "start_time": "2021-10-07T00:14:06.060363Z"
    },
    "colab": {
     "base_uri": "https://localhost:8080/"
    },
    "id": "D8RwRTjLsw52",
    "outputId": "532ba7e1-a9e0-4185-fd6f-4447320eacd0"
   },
   "outputs": [
    {
     "name": "stdout",
     "output_type": "stream",
     "text": [
      "F1 Score: 82.49%\n"
     ]
    }
   ],
   "source": [
    "# Recall\n",
    "from sklearn.metrics import f1_score\n",
    "\n",
    "# Calculating recall score for ML Model #3-d\n",
    "print(f\"F1 Score: {round(f1_score(y_test, y_pred)*100, 2)}%\")"
   ]
  },
  {
   "cell_type": "markdown",
   "id": "ecef756d",
   "metadata": {},
   "source": [
    "This is good result as portrayed by the harmonic mean (balance) of the precision and recall measures, signifying that the model accurately predicts the outcome of the review texts more than 82% of the time."
   ]
  },
  {
   "cell_type": "markdown",
   "id": "1l35-bBxs65N",
   "metadata": {
    "id": "1l35-bBxs65N"
   },
   "source": [
    "## ROC AUC\n",
    "\n",
    "The Receiver Operating Characteristic (ROC) curve is formed by plotting the [true positive rate (TPR)](https://www.split.io/glossary/false-positive-rate/#:~:text=The%20true%20positive%20rate%20(TPR,as%20TN%2FTN%2BFP.) against the [false positive rate (FPR)](https://www.ibm.com/support/producthub/icpdata/docs/content/SSQNUZ_latest/wsj/model/wos-quality-fpr.html). The area under the ROC curve (AUC) is an associated metric that represents, after plotting the ROC curve, the measure of the area under the curve.\n",
    "\n",
    "Now, calculating the ROC AUC score for our model -"
   ]
  },
  {
   "cell_type": "code",
   "execution_count": 29,
   "id": "mFXxK0c5s2C-",
   "metadata": {
    "ExecuteTime": {
     "end_time": "2021-10-07T00:14:00.150174Z",
     "start_time": "2021-10-07T00:14:00.133241Z"
    },
    "colab": {
     "base_uri": "https://localhost:8080/"
    },
    "id": "mFXxK0c5s2C-",
    "outputId": "052c112e-eb5a-4c05-d25d-aec03ca9ea16"
   },
   "outputs": [
    {
     "name": "stdout",
     "output_type": "stream",
     "text": [
      "ROC AUC Score: 82.66%\n"
     ]
    }
   ],
   "source": [
    "# Recall\n",
    "from sklearn.metrics import roc_auc_score\n",
    "\n",
    "# Calculating recall score for ML Model #3-d\n",
    "print(f\"ROC AUC Score: {round(roc_auc_score(y_test, y_pred)*100, 2)}%\")"
   ]
  },
  {
   "cell_type": "markdown",
   "id": "3e88dc91",
   "metadata": {},
   "source": [
    "This score signifies that the model is capable of accurately distinguishing between the two outcome classes about 83% of the time; i.e., when a review text is passed through the model, it is able to accurately separate the positive-sentiment reviews from the negative-sentiment ones accurately about 83% of the time.\n",
    "\n",
    "Now, when plotting the curve, we find the following:"
   ]
  },
  {
   "cell_type": "code",
   "execution_count": 27,
   "id": "80JA9Nb-s9VW",
   "metadata": {
    "ExecuteTime": {
     "end_time": "2021-10-07T00:13:06.393273Z",
     "start_time": "2021-10-07T00:13:04.771496Z"
    },
    "colab": {
     "base_uri": "https://localhost:8080/",
     "height": 265
    },
    "id": "80JA9Nb-s9VW",
    "outputId": "ba704be2-0acd-474a-8a87-9849e37de865",
    "scrolled": true
   },
   "outputs": [
    {
     "data": {
      "image/png": "[encoded data removed]",
      "text/plain": [
       "<Figure size 432x288 with 1 Axes>"
      ]
     },
     "metadata": {
      "needs_background": "light"
     },
     "output_type": "display_data"
    }
   ],
   "source": [
    "# Importing metrics from scikit-learn library\n",
    "from sklearn import metrics\n",
    "\n",
    "# Plotting the ROC AUC curve\n",
    "\n",
    "## Calculating probability of predicting outcome variable classes and plotting the ROC AUC curve\n",
    "y_pred_probab = rfc_gscv_best.predict_proba(X_test)[::,1]\n",
    "fpr, tpr, _ = metrics.roc_curve(y_test,  y_pred_probab)\n",
    "auc = metrics.roc_auc_score(y_test, y_pred_probab)\n",
    "plt.plot(fpr, tpr, label=\"ROC curve, auc=\"+str(round(auc,4)))\n",
    "plt.legend(loc=4)\n",
    "plt.show()"
   ]
  },
  {
   "cell_type": "markdown",
   "id": "476e23a6",
   "metadata": {},
   "source": [
    "We see in the plot that the area under the curve is about 91%. This implies that, when the model is presented with two random reviews, one from the positive-review class and one from the negative-review class, it is more confident that the positive point belongs to the positive class than the negative point belonging to the positive class."
   ]
  },
  {
   "cell_type": "markdown",
   "id": "628812d5",
   "metadata": {},
   "source": [
    "---\n",
    "# Conclusion\n",
    "\n",
    "We can confidently conclude that this model performed moderately well as we have observed:\n",
    "- [Very high train accuracy score and high test accuracy scores](#Accuracy-Scores) (both over 85%, though sign of overfitting as train accuracy score was around 97% and the discrepancy between the two scores was high)\n",
    "- High [precision](#Precision), [recall](#Recall), [F1](#F1-Score) as well as [ROC AUC scores](#ROC-AUC) (all above or around 80%)\n",
    "\n",
    "Statistically speaking, if we had to blindly guess the class (positive/negative) for a review, we would have been expected to be correct about 50% of the time (as the dataset's class distribution is 50/50). From this standpoint, this ML model has **added significant value by adding a substantial (more than 35%) increase in accuracy** in predicting the classes based on input values.\n",
    "\n",
    "For quick reference, the accuracy, precision, recall, and F1 scores are also summarized and tabulated below:"
   ]
  },
  {
   "cell_type": "code",
   "execution_count": 24,
   "id": "7fe16211",
   "metadata": {
    "ExecuteTime": {
     "end_time": "2021-10-07T00:12:09.406981Z",
     "start_time": "2021-10-07T00:12:09.362165Z"
    }
   },
   "outputs": [
    {
     "name": "stdout",
     "output_type": "stream",
     "text": [
      "[[5770 1076]\n",
      " [1321 5645]]\n",
      "              precision    recall  f1-score   support\n",
      "\n",
      "           0       0.81      0.84      0.83      6846\n",
      "           1       0.84      0.81      0.82      6966\n",
      "\n",
      "    accuracy                           0.83     13812\n",
      "   macro avg       0.83      0.83      0.83     13812\n",
      "weighted avg       0.83      0.83      0.83     13812\n",
      "\n",
      "0.8264552562988705\n"
     ]
    }
   ],
   "source": [
    "from sklearn.metrics import classification_report, confusion_matrix, accuracy_score\n",
    "\n",
    "print(confusion_matrix(y_test,y_pred))\n",
    "print(classification_report(y_test,y_pred))\n",
    "print(accuracy_score(y_test, y_pred))"
   ]
  },
  {
   "cell_type": "code",
   "execution_count": 28,
   "id": "7e02b044",
   "metadata": {
    "ExecuteTime": {
     "end_time": "2021-10-07T00:13:32.411231Z",
     "start_time": "2021-10-07T00:13:32.199942Z"
    }
   },
   "outputs": [],
   "source": [
    "# Saving the best model locally for retrieval in later part of the project as needed\n",
    "\n",
    "## Importing pickle\n",
    "import pickle\n",
    "\n",
    "## Saving the model locally\n",
    "pickle.dump(rfc_gscv_best, open('model2_rf_final.sav', 'wb'))"
   ]
  }
 ],
 "metadata": {
  "colab": {
   "collapsed_sections": [],
   "machine_shape": "hm",
   "name": "Kazi Shahid_Capstone Part 4b_Sentiment Analysis ML Model 2_Random Forest Classifier.ipynb",
   "provenance": [],
   "toc_visible": true
  },
  "hide_input": false,
  "kernelspec": {
   "display_name": "Python 3",
   "language": "python",
   "name": "python3"
  },
  "language_info": {
   "codemirror_mode": {
    "name": "ipython",
    "version": 3
   },
   "file_extension": ".py",
   "mimetype": "text/x-python",
   "name": "python",
   "nbconvert_exporter": "python",
   "pygments_lexer": "ipython3",
   "version": "3.8.8"
  },
  "toc": {
   "base_numbering": 1,
   "nav_menu": {},
   "number_sections": true,
   "sideBar": true,
   "skip_h1_title": false,
   "title_cell": "Table of Contents",
   "title_sidebar": "Contents",
   "toc_cell": false,
   "toc_position": {
    "height": "calc(100% - 180px)",
    "left": "10px",
    "top": "150px",
    "width": "362px"
   },
   "toc_section_display": true,
   "toc_window_display": true
  }
 },
 "nbformat": 4,
 "nbformat_minor": 5
}
