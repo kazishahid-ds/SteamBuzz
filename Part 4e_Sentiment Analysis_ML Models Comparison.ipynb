{
 "cells": [
  {
   "cell_type": "markdown",
   "id": "dc660767",
   "metadata": {},
   "source": [
    "<div id=\"container\" style=\"position:relative;\">\n",
    "<div style=\"float:left\">\n",
    "\n",
    "***Kazi Shahid***\n",
    "\n",
    "***BrainStation Data Science Diploma Candidate***\n",
    "\n",
    "***Capstone Project***\n",
    "\n",
    "=============================================================\n",
    "\n",
    "***Project SteamBuzz: Will Our Game Create a Buzz in the Steam community?***\n",
    "\n",
    "***Part 4 (e): Sentiment Analysis - ML Models Comparison***\n",
    "</div>\n",
    "<div style=\"position:relative; float:right\"><img style=\"height:100px\" src =\"https://i.ibb.co/mcvpL4Z/Steam-Buzz-logo.png\" />\n",
    "</div>\n",
    "</div>"
   ]
  },
  {
   "cell_type": "markdown",
   "id": "1c8a41cf",
   "metadata": {},
   "source": [
    "---\n",
    "# Overview\n",
    "\n",
    "So far in this project, we have employed, optimized, and evaluated different ML models to solve our business problem. In this part, we will present a comparative picture in order to assess and declare a winner."
   ]
  },
  {
   "cell_type": "markdown",
   "id": "014270ea",
   "metadata": {},
   "source": [
    "---\n",
    "# Comparison of the ML Models\n",
    "\n",
    "From Part 4(a) through 4(d) of this project, we have employed and evaluated four ML models:\n",
    "1. Part 4(a) - Logistic Regression\n",
    "2. Part 4(b) - Random Forest classifier\n",
    "3. Part 4(c) - Multinomial Naive Bayes classifier\n",
    "4. Part 4(d) - Support Vector Machines classifier\n",
    "\n",
    "Following evaluation, each model's scores are summarized below:\n",
    "\n",
    "| ML Model | Accuracy | Precision | Recall | F1 | ROC AUC | Runtime for best model |\n",
    "| :- | :-: | :-: | :-: | :-: | :-: | :-: |\n",
    "| **1. Logistic Regression** | **85.49%** | **85.97%** | **85.13%** | **85.55%** | **85.49%** | 69 seconds|\n",
    "| **2. Random Forest** | **82.64%** | **83.99%** | **81.04%** | **82.49%** | **82.66%** | 226 seconds|\n",
    "| **3. Multinomial Naive Bayes** | **81.47%** | **82.93%** | **79.67%** | **81.27%** | **81.50%** | 21 seconds|\n",
    "| **4. Support Vector Machines** | *N/A* | *N/A* | *N/A* | *N/A* | *N/A* | *N/A* |"
   ]
  },
  {
   "cell_type": "markdown",
   "id": "50e39a0b",
   "metadata": {},
   "source": [
    "---\n",
    "# Best Performing Model for this Project\n",
    "\n",
    "As evident from the comparative scoring above:\n",
    "- Logistic regression (ML model 1) has the best scores across all performance measures, and had the smallest difference between the train and test accuracy scores (less than 2%) as was in Part 4(a) of the project.\n",
    "- The Random Forest classifier (ML model 2) had the second-best scores across all performance measures, though its runtime was considerably higher than the others. Still, it was not as high to be considered impracticable for production deployment.\n",
    "- The multinomial Naive Bayes classifier (ML model 3) came out third in terms of the scores across all performance measures, though it was not far behind the second place at all. Its runtime was significantly higher than the second place's, too.\n",
    "- The Support Vector Machines (ML model 4), as discussed in Part 4(d) of the project, had extremely high runtime and not up-to-the-mark model performance, making it impracticable for this dataset and problem space.\n",
    "\n",
    "Therefore, we can conclude that:\n",
    "- The **logistic regression** is the clear winner in the sentiment analysis for this project, in terms of both its performance measures and runtime.\n",
    "- The **Random Forest** and **multinomial Naive Bayes** classifiers are toe-to-toe, not separated by much (less than 2%) in the scores, and neither showing impracticable runtime."
   ]
  }
 ],
 "metadata": {
  "hide_input": false,
  "kernelspec": {
   "display_name": "Python 3",
   "language": "python",
   "name": "python3"
  },
  "language_info": {
   "codemirror_mode": {
    "name": "ipython",
    "version": 3
   },
   "file_extension": ".py",
   "mimetype": "text/x-python",
   "name": "python",
   "nbconvert_exporter": "python",
   "pygments_lexer": "ipython3",
   "version": "3.8.8"
  },
  "toc": {
   "base_numbering": 1,
   "nav_menu": {},
   "number_sections": true,
   "sideBar": true,
   "skip_h1_title": false,
   "title_cell": "Table of Contents",
   "title_sidebar": "Contents",
   "toc_cell": false,
   "toc_position": {
    "height": "calc(100% - 180px)",
    "left": "10px",
    "top": "150px",
    "width": "165px"
   },
   "toc_section_display": true,
   "toc_window_display": true
  }
 },
 "nbformat": 4,
 "nbformat_minor": 5
}
